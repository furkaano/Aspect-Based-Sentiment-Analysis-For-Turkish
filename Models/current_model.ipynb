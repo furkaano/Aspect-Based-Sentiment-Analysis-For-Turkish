{
  "cells": [
    {
      "cell_type": "code",
      "execution_count": null,
      "metadata": {
        "colab": {
          "base_uri": "https://localhost:8080/"
        },
        "id": "Gx4OmFOaLXm1",
        "outputId": "8af84900-61a3-4eb1-94fa-4cb9a5c062db"
      },
      "outputs": [
        {
          "name": "stdout",
          "output_type": "stream",
          "text": [
            "Sat May 28 11:28:18 2022       \n",
            "+-----------------------------------------------------------------------------+\n",
            "| NVIDIA-SMI 460.32.03    Driver Version: 460.32.03    CUDA Version: 11.2     |\n",
            "|-------------------------------+----------------------+----------------------+\n",
            "| GPU  Name        Persistence-M| Bus-Id        Disp.A | Volatile Uncorr. ECC |\n",
            "| Fan  Temp  Perf  Pwr:Usage/Cap|         Memory-Usage | GPU-Util  Compute M. |\n",
            "|                               |                      |               MIG M. |\n",
            "|===============================+======================+======================|\n",
            "|   0  Tesla T4            Off  | 00000000:00:04.0 Off |                    0 |\n",
            "| N/A   61C    P8    10W /  70W |      0MiB / 15109MiB |      0%      Default |\n",
            "|                               |                      |                  N/A |\n",
            "+-------------------------------+----------------------+----------------------+\n",
            "                                                                               \n",
            "+-----------------------------------------------------------------------------+\n",
            "| Processes:                                                                  |\n",
            "|  GPU   GI   CI        PID   Type   Process name                  GPU Memory |\n",
            "|        ID   ID                                                   Usage      |\n",
            "|=============================================================================|\n",
            "|  No running processes found                                                 |\n",
            "+-----------------------------------------------------------------------------+\n"
          ]
        }
      ],
      "source": [
        "!nvidia-smi"
      ]
    },
    {
      "cell_type": "code",
      "execution_count": 1,
      "metadata": {
        "colab": {
          "base_uri": "https://localhost:8080/"
        },
        "id": "Cyww7VraLjw_",
        "outputId": "47716889-3ae1-4853-c4ef-4cc82cf63b11"
      },
      "outputs": [
        {
          "output_type": "stream",
          "name": "stdout",
          "text": [
            "Looking in indexes: https://pypi.org/simple, https://us-python.pkg.dev/colab-wheels/public/simple/\n",
            "Collecting transformers\n",
            "  Downloading transformers-4.20.0-py3-none-any.whl (4.4 MB)\n",
            "\u001b[K     |████████████████████████████████| 4.4 MB 14.7 MB/s \n",
            "\u001b[?25hRequirement already satisfied: filelock in /usr/local/lib/python3.7/dist-packages (from transformers) (3.7.1)\n",
            "Requirement already satisfied: importlib-metadata in /usr/local/lib/python3.7/dist-packages (from transformers) (4.11.4)\n",
            "Requirement already satisfied: packaging>=20.0 in /usr/local/lib/python3.7/dist-packages (from transformers) (21.3)\n",
            "Collecting pyyaml>=5.1\n",
            "  Downloading PyYAML-6.0-cp37-cp37m-manylinux_2_5_x86_64.manylinux1_x86_64.manylinux_2_12_x86_64.manylinux2010_x86_64.whl (596 kB)\n",
            "\u001b[K     |████████████████████████████████| 596 kB 59.2 MB/s \n",
            "\u001b[?25hRequirement already satisfied: regex!=2019.12.17 in /usr/local/lib/python3.7/dist-packages (from transformers) (2022.6.2)\n",
            "Requirement already satisfied: numpy>=1.17 in /usr/local/lib/python3.7/dist-packages (from transformers) (1.21.6)\n",
            "Requirement already satisfied: requests in /usr/local/lib/python3.7/dist-packages (from transformers) (2.23.0)\n",
            "Collecting tokenizers!=0.11.3,<0.13,>=0.11.1\n",
            "  Downloading tokenizers-0.12.1-cp37-cp37m-manylinux_2_12_x86_64.manylinux2010_x86_64.whl (6.6 MB)\n",
            "\u001b[K     |████████████████████████████████| 6.6 MB 31.6 MB/s \n",
            "\u001b[?25hRequirement already satisfied: tqdm>=4.27 in /usr/local/lib/python3.7/dist-packages (from transformers) (4.64.0)\n",
            "Collecting huggingface-hub<1.0,>=0.1.0\n",
            "  Downloading huggingface_hub-0.7.0-py3-none-any.whl (86 kB)\n",
            "\u001b[K     |████████████████████████████████| 86 kB 6.7 MB/s \n",
            "\u001b[?25hRequirement already satisfied: typing-extensions>=3.7.4.3 in /usr/local/lib/python3.7/dist-packages (from huggingface-hub<1.0,>=0.1.0->transformers) (4.1.1)\n",
            "Requirement already satisfied: pyparsing!=3.0.5,>=2.0.2 in /usr/local/lib/python3.7/dist-packages (from packaging>=20.0->transformers) (3.0.9)\n",
            "Requirement already satisfied: zipp>=0.5 in /usr/local/lib/python3.7/dist-packages (from importlib-metadata->transformers) (3.8.0)\n",
            "Requirement already satisfied: chardet<4,>=3.0.2 in /usr/local/lib/python3.7/dist-packages (from requests->transformers) (3.0.4)\n",
            "Requirement already satisfied: certifi>=2017.4.17 in /usr/local/lib/python3.7/dist-packages (from requests->transformers) (2022.6.15)\n",
            "Requirement already satisfied: idna<3,>=2.5 in /usr/local/lib/python3.7/dist-packages (from requests->transformers) (2.10)\n",
            "Requirement already satisfied: urllib3!=1.25.0,!=1.25.1,<1.26,>=1.21.1 in /usr/local/lib/python3.7/dist-packages (from requests->transformers) (1.24.3)\n",
            "Installing collected packages: pyyaml, tokenizers, huggingface-hub, transformers\n",
            "  Attempting uninstall: pyyaml\n",
            "    Found existing installation: PyYAML 3.13\n",
            "    Uninstalling PyYAML-3.13:\n",
            "      Successfully uninstalled PyYAML-3.13\n",
            "Successfully installed huggingface-hub-0.7.0 pyyaml-6.0 tokenizers-0.12.1 transformers-4.20.0\n"
          ]
        }
      ],
      "source": [
        "!pip install transformers"
      ]
    },
    {
      "cell_type": "code",
      "execution_count": 2,
      "metadata": {
        "colab": {
          "base_uri": "https://localhost:8080/",
          "height": 542
        },
        "id": "hqOBDPhFLU5V",
        "outputId": "c0068780-63c0-46e1-cd10-fb61abdf8c34"
      },
      "outputs": [
        {
          "output_type": "execute_result",
          "data": {
            "text/plain": [
              "      SID                                         lemmatized  \\\n",
              "0  1000:0                 manzara sahane evet servis rezalet   \n",
              "1  1000:1  soguk su istemek soguk yok butun sulari disari...   \n",
              "2  1000:2  yemek iyi hos lezzet iyi heyecan veri bi taraf...   \n",
              "3  1000:3                             servis fiyat cok fazla   \n",
              "4  1000:4          lacivert kalite dusukluguyle cok sasirtti   \n",
              "\n",
              "   negative - AMBIENCE#GENERAL  negative - DRINKS#PRICES  \\\n",
              "0                            0                         0   \n",
              "1                            0                         0   \n",
              "2                            0                         0   \n",
              "3                            0                         0   \n",
              "4                            0                         0   \n",
              "\n",
              "   negative - DRINKS#QUALITY  negative - DRINKS#STYLE_OPTIONS  \\\n",
              "0                          0                                0   \n",
              "1                          0                                0   \n",
              "2                          0                                0   \n",
              "3                          0                                0   \n",
              "4                          0                                0   \n",
              "\n",
              "   negative - FOOD#PRICES  negative - FOOD#QUALITY  \\\n",
              "0                       0                        0   \n",
              "1                       0                        0   \n",
              "2                       0                        0   \n",
              "3                       0                        0   \n",
              "4                       0                        0   \n",
              "\n",
              "   negative - FOOD#STYLE_OPTIONS  negative - LOCATION#GENERAL  ...  \\\n",
              "0                              0                            0  ...   \n",
              "1                              1                            0  ...   \n",
              "2                              0                            0  ...   \n",
              "3                              0                            0  ...   \n",
              "4                              0                            0  ...   \n",
              "\n",
              "   positive - DRINKS#QUALITY  positive - DRINKS#STYLE_OPTIONS  \\\n",
              "0                          0                                0   \n",
              "1                          0                                0   \n",
              "2                          0                                0   \n",
              "3                          0                                0   \n",
              "4                          0                                0   \n",
              "\n",
              "   positive - FOOD#PRICES  positive - FOOD#QUALITY  \\\n",
              "0                       0                        0   \n",
              "1                       0                        0   \n",
              "2                       0                        1   \n",
              "3                       0                        0   \n",
              "4                       0                        0   \n",
              "\n",
              "   positive - FOOD#STYLE_OPTIONS  positive - LOCATION#GENERAL  \\\n",
              "0                              0                            0   \n",
              "1                              0                            0   \n",
              "2                              0                            0   \n",
              "3                              0                            0   \n",
              "4                              0                            0   \n",
              "\n",
              "   positive - RESTAURANT#GENERAL  positive - RESTAURANT#MISCELLANEOUS  \\\n",
              "0                              0                                    0   \n",
              "1                              0                                    0   \n",
              "2                              0                                    0   \n",
              "3                              0                                    0   \n",
              "4                              0                                    0   \n",
              "\n",
              "   positive - RESTAURANT#PRICES  positive - SERVICE#GENERAL  \n",
              "0                             0                           0  \n",
              "1                             0                           0  \n",
              "2                             0                           0  \n",
              "3                             0                           0  \n",
              "4                             0                           0  \n",
              "\n",
              "[5 rows x 34 columns]"
            ],
            "text/html": [
              "\n",
              "  <div id=\"df-0d42560c-d6e7-4141-9cef-055cf9459eff\">\n",
              "    <div class=\"colab-df-container\">\n",
              "      <div>\n",
              "<style scoped>\n",
              "    .dataframe tbody tr th:only-of-type {\n",
              "        vertical-align: middle;\n",
              "    }\n",
              "\n",
              "    .dataframe tbody tr th {\n",
              "        vertical-align: top;\n",
              "    }\n",
              "\n",
              "    .dataframe thead th {\n",
              "        text-align: right;\n",
              "    }\n",
              "</style>\n",
              "<table border=\"1\" class=\"dataframe\">\n",
              "  <thead>\n",
              "    <tr style=\"text-align: right;\">\n",
              "      <th></th>\n",
              "      <th>SID</th>\n",
              "      <th>lemmatized</th>\n",
              "      <th>negative - AMBIENCE#GENERAL</th>\n",
              "      <th>negative - DRINKS#PRICES</th>\n",
              "      <th>negative - DRINKS#QUALITY</th>\n",
              "      <th>negative - DRINKS#STYLE_OPTIONS</th>\n",
              "      <th>negative - FOOD#PRICES</th>\n",
              "      <th>negative - FOOD#QUALITY</th>\n",
              "      <th>negative - FOOD#STYLE_OPTIONS</th>\n",
              "      <th>negative - LOCATION#GENERAL</th>\n",
              "      <th>...</th>\n",
              "      <th>positive - DRINKS#QUALITY</th>\n",
              "      <th>positive - DRINKS#STYLE_OPTIONS</th>\n",
              "      <th>positive - FOOD#PRICES</th>\n",
              "      <th>positive - FOOD#QUALITY</th>\n",
              "      <th>positive - FOOD#STYLE_OPTIONS</th>\n",
              "      <th>positive - LOCATION#GENERAL</th>\n",
              "      <th>positive - RESTAURANT#GENERAL</th>\n",
              "      <th>positive - RESTAURANT#MISCELLANEOUS</th>\n",
              "      <th>positive - RESTAURANT#PRICES</th>\n",
              "      <th>positive - SERVICE#GENERAL</th>\n",
              "    </tr>\n",
              "  </thead>\n",
              "  <tbody>\n",
              "    <tr>\n",
              "      <th>0</th>\n",
              "      <td>1000:0</td>\n",
              "      <td>manzara sahane evet servis rezalet</td>\n",
              "      <td>0</td>\n",
              "      <td>0</td>\n",
              "      <td>0</td>\n",
              "      <td>0</td>\n",
              "      <td>0</td>\n",
              "      <td>0</td>\n",
              "      <td>0</td>\n",
              "      <td>0</td>\n",
              "      <td>...</td>\n",
              "      <td>0</td>\n",
              "      <td>0</td>\n",
              "      <td>0</td>\n",
              "      <td>0</td>\n",
              "      <td>0</td>\n",
              "      <td>0</td>\n",
              "      <td>0</td>\n",
              "      <td>0</td>\n",
              "      <td>0</td>\n",
              "      <td>0</td>\n",
              "    </tr>\n",
              "    <tr>\n",
              "      <th>1</th>\n",
              "      <td>1000:1</td>\n",
              "      <td>soguk su istemek soguk yok butun sulari disari...</td>\n",
              "      <td>0</td>\n",
              "      <td>0</td>\n",
              "      <td>0</td>\n",
              "      <td>0</td>\n",
              "      <td>0</td>\n",
              "      <td>0</td>\n",
              "      <td>1</td>\n",
              "      <td>0</td>\n",
              "      <td>...</td>\n",
              "      <td>0</td>\n",
              "      <td>0</td>\n",
              "      <td>0</td>\n",
              "      <td>0</td>\n",
              "      <td>0</td>\n",
              "      <td>0</td>\n",
              "      <td>0</td>\n",
              "      <td>0</td>\n",
              "      <td>0</td>\n",
              "      <td>0</td>\n",
              "    </tr>\n",
              "    <tr>\n",
              "      <th>2</th>\n",
              "      <td>1000:2</td>\n",
              "      <td>yemek iyi hos lezzet iyi heyecan veri bi taraf...</td>\n",
              "      <td>0</td>\n",
              "      <td>0</td>\n",
              "      <td>0</td>\n",
              "      <td>0</td>\n",
              "      <td>0</td>\n",
              "      <td>0</td>\n",
              "      <td>0</td>\n",
              "      <td>0</td>\n",
              "      <td>...</td>\n",
              "      <td>0</td>\n",
              "      <td>0</td>\n",
              "      <td>0</td>\n",
              "      <td>1</td>\n",
              "      <td>0</td>\n",
              "      <td>0</td>\n",
              "      <td>0</td>\n",
              "      <td>0</td>\n",
              "      <td>0</td>\n",
              "      <td>0</td>\n",
              "    </tr>\n",
              "    <tr>\n",
              "      <th>3</th>\n",
              "      <td>1000:3</td>\n",
              "      <td>servis fiyat cok fazla</td>\n",
              "      <td>0</td>\n",
              "      <td>0</td>\n",
              "      <td>0</td>\n",
              "      <td>0</td>\n",
              "      <td>0</td>\n",
              "      <td>0</td>\n",
              "      <td>0</td>\n",
              "      <td>0</td>\n",
              "      <td>...</td>\n",
              "      <td>0</td>\n",
              "      <td>0</td>\n",
              "      <td>0</td>\n",
              "      <td>0</td>\n",
              "      <td>0</td>\n",
              "      <td>0</td>\n",
              "      <td>0</td>\n",
              "      <td>0</td>\n",
              "      <td>0</td>\n",
              "      <td>0</td>\n",
              "    </tr>\n",
              "    <tr>\n",
              "      <th>4</th>\n",
              "      <td>1000:4</td>\n",
              "      <td>lacivert kalite dusukluguyle cok sasirtti</td>\n",
              "      <td>0</td>\n",
              "      <td>0</td>\n",
              "      <td>0</td>\n",
              "      <td>0</td>\n",
              "      <td>0</td>\n",
              "      <td>0</td>\n",
              "      <td>0</td>\n",
              "      <td>0</td>\n",
              "      <td>...</td>\n",
              "      <td>0</td>\n",
              "      <td>0</td>\n",
              "      <td>0</td>\n",
              "      <td>0</td>\n",
              "      <td>0</td>\n",
              "      <td>0</td>\n",
              "      <td>0</td>\n",
              "      <td>0</td>\n",
              "      <td>0</td>\n",
              "      <td>0</td>\n",
              "    </tr>\n",
              "  </tbody>\n",
              "</table>\n",
              "<p>5 rows × 34 columns</p>\n",
              "</div>\n",
              "      <button class=\"colab-df-convert\" onclick=\"convertToInteractive('df-0d42560c-d6e7-4141-9cef-055cf9459eff')\"\n",
              "              title=\"Convert this dataframe to an interactive table.\"\n",
              "              style=\"display:none;\">\n",
              "        \n",
              "  <svg xmlns=\"http://www.w3.org/2000/svg\" height=\"24px\"viewBox=\"0 0 24 24\"\n",
              "       width=\"24px\">\n",
              "    <path d=\"M0 0h24v24H0V0z\" fill=\"none\"/>\n",
              "    <path d=\"M18.56 5.44l.94 2.06.94-2.06 2.06-.94-2.06-.94-.94-2.06-.94 2.06-2.06.94zm-11 1L8.5 8.5l.94-2.06 2.06-.94-2.06-.94L8.5 2.5l-.94 2.06-2.06.94zm10 10l.94 2.06.94-2.06 2.06-.94-2.06-.94-.94-2.06-.94 2.06-2.06.94z\"/><path d=\"M17.41 7.96l-1.37-1.37c-.4-.4-.92-.59-1.43-.59-.52 0-1.04.2-1.43.59L10.3 9.45l-7.72 7.72c-.78.78-.78 2.05 0 2.83L4 21.41c.39.39.9.59 1.41.59.51 0 1.02-.2 1.41-.59l7.78-7.78 2.81-2.81c.8-.78.8-2.07 0-2.86zM5.41 20L4 18.59l7.72-7.72 1.47 1.35L5.41 20z\"/>\n",
              "  </svg>\n",
              "      </button>\n",
              "      \n",
              "  <style>\n",
              "    .colab-df-container {\n",
              "      display:flex;\n",
              "      flex-wrap:wrap;\n",
              "      gap: 12px;\n",
              "    }\n",
              "\n",
              "    .colab-df-convert {\n",
              "      background-color: #E8F0FE;\n",
              "      border: none;\n",
              "      border-radius: 50%;\n",
              "      cursor: pointer;\n",
              "      display: none;\n",
              "      fill: #1967D2;\n",
              "      height: 32px;\n",
              "      padding: 0 0 0 0;\n",
              "      width: 32px;\n",
              "    }\n",
              "\n",
              "    .colab-df-convert:hover {\n",
              "      background-color: #E2EBFA;\n",
              "      box-shadow: 0px 1px 2px rgba(60, 64, 67, 0.3), 0px 1px 3px 1px rgba(60, 64, 67, 0.15);\n",
              "      fill: #174EA6;\n",
              "    }\n",
              "\n",
              "    [theme=dark] .colab-df-convert {\n",
              "      background-color: #3B4455;\n",
              "      fill: #D2E3FC;\n",
              "    }\n",
              "\n",
              "    [theme=dark] .colab-df-convert:hover {\n",
              "      background-color: #434B5C;\n",
              "      box-shadow: 0px 1px 3px 1px rgba(0, 0, 0, 0.15);\n",
              "      filter: drop-shadow(0px 1px 2px rgba(0, 0, 0, 0.3));\n",
              "      fill: #FFFFFF;\n",
              "    }\n",
              "  </style>\n",
              "\n",
              "      <script>\n",
              "        const buttonEl =\n",
              "          document.querySelector('#df-0d42560c-d6e7-4141-9cef-055cf9459eff button.colab-df-convert');\n",
              "        buttonEl.style.display =\n",
              "          google.colab.kernel.accessAllowed ? 'block' : 'none';\n",
              "\n",
              "        async function convertToInteractive(key) {\n",
              "          const element = document.querySelector('#df-0d42560c-d6e7-4141-9cef-055cf9459eff');\n",
              "          const dataTable =\n",
              "            await google.colab.kernel.invokeFunction('convertToInteractive',\n",
              "                                                     [key], {});\n",
              "          if (!dataTable) return;\n",
              "\n",
              "          const docLinkHtml = 'Like what you see? Visit the ' +\n",
              "            '<a target=\"_blank\" href=https://colab.research.google.com/notebooks/data_table.ipynb>data table notebook</a>'\n",
              "            + ' to learn more about interactive tables.';\n",
              "          element.innerHTML = '';\n",
              "          dataTable['output_type'] = 'display_data';\n",
              "          await google.colab.output.renderOutput(dataTable, element);\n",
              "          const docLink = document.createElement('div');\n",
              "          docLink.innerHTML = docLinkHtml;\n",
              "          element.appendChild(docLink);\n",
              "        }\n",
              "      </script>\n",
              "    </div>\n",
              "  </div>\n",
              "  "
            ]
          },
          "metadata": {},
          "execution_count": 2
        }
      ],
      "source": [
        "import pandas as pd\n",
        "import numpy as np\n",
        "import seaborn as sns\n",
        "\n",
        "from sklearn.model_selection import train_test_split\n",
        "from sklearn.metrics import accuracy_score, recall_score, precision_score, f1_score\n",
        "\n",
        "import tensorflow as tf\n",
        "from tensorflow.keras.layers import Input, Dropout, Dense\n",
        "from tensorflow.keras.losses import BinaryCrossentropy\n",
        "from tensorflow.keras.metrics import AUC\n",
        "from tensorflow.keras.models import Model\n",
        "from tensorflow.keras.optimizers import Adam\n",
        "\n",
        "from transformers import BertModel, BertTokenizer, BertConfig, BertForSequenceClassification, TFBertModel\n",
        "train_df = pd.read_csv('/content/re-designed_train_df.csv')\n",
        "train_df.drop('Unnamed: 0', axis=1, inplace=True)\n",
        "train_df.head()"
      ]
    },
    {
      "cell_type": "code",
      "execution_count": null,
      "metadata": {
        "id": "64BO7sj-YYvt"
      },
      "outputs": [],
      "source": [
        "import pandas as pd\n",
        "a = pd.Series([0.2, 0.1, 0.3], index=['A', 'B', 'C'])\n",
        "b = pd.Series([0.2, 0.2, 0.5], index=['A', 'D', 'E'])"
      ]
    },
    {
      "cell_type": "code",
      "execution_count": null,
      "metadata": {
        "id": "hQZogkzRYnya"
      },
      "outputs": [],
      "source": [
        "!pip list"
      ]
    },
    {
      "cell_type": "code",
      "execution_count": 3,
      "metadata": {
        "colab": {
          "base_uri": "https://localhost:8080/"
        },
        "id": "Y0rtBcfSLU5c",
        "outputId": "b52e8421-161d-485f-d3e8-ebfd05b52b96"
      },
      "outputs": [
        {
          "output_type": "stream",
          "name": "stdout",
          "text": [
            "Sample: \"oturup saatlerce kalite caymak esliginde muhabbet etmek\"\n",
            "Labels: {'negative - AMBIENCE#GENERAL': 0, 'negative - DRINKS#PRICES': 0, 'negative - DRINKS#QUALITY': 0, 'negative - DRINKS#STYLE_OPTIONS': 0, 'negative - FOOD#PRICES': 0, 'negative - FOOD#QUALITY': 0, 'negative - FOOD#STYLE_OPTIONS': 0, 'negative - LOCATION#GENERAL': 0, 'negative - RESTAURANT#GENERAL': 0, 'negative - RESTAURANT#PRICES': 0, 'negative - SERVICE#GENERAL': 0, 'neutral - AMBIENCE#GENERAL': 0, 'neutral - DRINKS#PRICES': 0, 'neutral - DRINKS#QUALITY': 0, 'neutral - FOOD#PRICES': 0, 'neutral - FOOD#QUALITY': 0, 'neutral - FOOD#STYLE_OPTIONS': 0, 'neutral - LOCATION#GENERAL': 0, 'neutral - RESTAURANT#GENERAL': 0, 'neutral - RESTAURANT#PRICES': 0, 'neutral - SERVICE#GENERAL': 0, 'positive - AMBIENCE#GENERAL': 1, 'positive - DRINKS#QUALITY': 1, 'positive - DRINKS#STYLE_OPTIONS': 0, 'positive - FOOD#PRICES': 0, 'positive - FOOD#QUALITY': 0, 'positive - FOOD#STYLE_OPTIONS': 0, 'positive - LOCATION#GENERAL': 0, 'positive - RESTAURANT#GENERAL': 0, 'positive - RESTAURANT#MISCELLANEOUS': 0, 'positive - RESTAURANT#PRICES': 0, 'positive - SERVICE#GENERAL': 0}\n"
          ]
        }
      ],
      "source": [
        "texts = list(train_df[\"lemmatized\"])\n",
        "label_names = train_df.drop([\"SID\", \"lemmatized\"], axis=1).columns\n",
        "labels = train_df[label_names].values\n",
        "\n",
        "train_texts, test_texts, train_labels, test_labels = train_test_split(\n",
        "    texts, labels, test_size=0.1, random_state=42\n",
        ")\n",
        "\n",
        "sample_idx = 24\n",
        "print(f'Sample: \"{train_texts[sample_idx]}\"')\n",
        "print(f\"Labels: {pd.Series(train_labels[sample_idx], label_names).to_dict()}\")"
      ]
    },
    {
      "cell_type": "code",
      "source": [
        "labels"
      ],
      "metadata": {
        "colab": {
          "base_uri": "https://localhost:8080/"
        },
        "id": "5Wauf3Krj_Lt",
        "outputId": "83838fdb-c894-488e-d54e-4508a9006d43"
      },
      "execution_count": 8,
      "outputs": [
        {
          "output_type": "execute_result",
          "data": {
            "text/plain": [
              "array([[0, 0, 0, ..., 0, 0, 0],\n",
              "       [0, 0, 0, ..., 0, 0, 0],\n",
              "       [0, 0, 0, ..., 0, 0, 0],\n",
              "       ...,\n",
              "       [0, 0, 0, ..., 0, 0, 0],\n",
              "       [0, 0, 0, ..., 0, 0, 0],\n",
              "       [0, 0, 0, ..., 0, 0, 0]])"
            ]
          },
          "metadata": {},
          "execution_count": 8
        }
      ]
    },
    {
      "cell_type": "code",
      "execution_count": 6,
      "metadata": {
        "colab": {
          "base_uri": "https://localhost:8080/"
        },
        "id": "XA85RVGNYBZJ",
        "outputId": "9f8454de-4417-4a9c-a1e8-0cb786aca170"
      },
      "outputs": [
        {
          "output_type": "execute_result",
          "data": {
            "text/plain": [
              "980"
            ]
          },
          "metadata": {},
          "execution_count": 6
        }
      ],
      "source": [
        "len(train_labels)"
      ]
    },
    {
      "cell_type": "code",
      "execution_count": null,
      "metadata": {
        "id": "1uSuEXha_3Ag"
      },
      "outputs": [],
      "source": [
        "for i, label in enumerate(label_names):\n",
        "  print(i)\n",
        "  print(label)"
      ]
    },
    {
      "cell_type": "code",
      "execution_count": null,
      "metadata": {
        "colab": {
          "base_uri": "https://localhost:8080/"
        },
        "id": "p_tvKaQK5DhZ",
        "outputId": "79e0088d-cc6e-4021-e936-6c3eb34bd699"
      },
      "outputs": [
        {
          "data": {
            "text/plain": [
              "array([[0, 0, 0, ..., 0, 0, 0],\n",
              "       [0, 0, 0, ..., 0, 0, 0],\n",
              "       [0, 0, 0, ..., 0, 0, 0],\n",
              "       ...,\n",
              "       [0, 0, 0, ..., 0, 0, 0],\n",
              "       [0, 0, 0, ..., 0, 0, 0],\n",
              "       [0, 0, 0, ..., 0, 0, 0]])"
            ]
          },
          "execution_count": 14,
          "metadata": {},
          "output_type": "execute_result"
        }
      ],
      "source": [
        "test_labels"
      ]
    },
    {
      "cell_type": "code",
      "execution_count": null,
      "metadata": {
        "colab": {
          "base_uri": "https://localhost:8080/"
        },
        "id": "F0d7GY-h4ZGj",
        "outputId": "41c38e3d-ab5d-4ddd-e08a-775bf137961d"
      },
      "outputs": [
        {
          "data": {
            "text/plain": [
              "list"
            ]
          },
          "execution_count": 12,
          "metadata": {},
          "output_type": "execute_result"
        }
      ],
      "source": [
        "type(test_texts)"
      ]
    },
    {
      "cell_type": "code",
      "execution_count": null,
      "metadata": {
        "id": "ROskeS1GLU5d"
      },
      "outputs": [],
      "source": [
        "# from collections import Counter\n",
        "# train_df.drop([\"SID\", \"lemmatized\"], axis=1)"
      ]
    },
    {
      "cell_type": "markdown",
      "metadata": {
        "id": "VVu4V5LiLU5e"
      },
      "source": [
        "plotly"
      ]
    },
    {
      "cell_type": "code",
      "execution_count": null,
      "metadata": {
        "colab": {
          "base_uri": "https://localhost:8080/"
        },
        "id": "mpnY29JiQYEp",
        "outputId": "9105c3a0-da86-4f01-ed6d-bdd281a81efb"
      },
      "outputs": [
        {
          "data": {
            "text/plain": [
              "976"
            ]
          },
          "execution_count": 4,
          "metadata": {},
          "output_type": "execute_result"
        }
      ],
      "source": [
        "61*16"
      ]
    },
    {
      "cell_type": "code",
      "execution_count": null,
      "metadata": {
        "colab": {
          "base_uri": "https://localhost:8080/"
        },
        "id": "qRtegQDhLU5h",
        "outputId": "acf0b5ff-8d94-4c21-cf9c-3590167a2a33"
      },
      "outputs": [
        {
          "name": "stdout",
          "output_type": "stream",
          "text": [
            "Length of train texts :  980\n",
            "Length of train texts :  109\n",
            "Length of train texts :  980\n",
            "Length of train texts :  109\n"
          ]
        }
      ],
      "source": [
        "print(\"Length of train texts : \", len(train_texts))\n",
        "print(\"Length of train texts : \", len(test_texts))\n",
        "print(\"Length of train texts : \", len(train_labels))\n",
        "print(\"Length of train texts : \", len(test_labels))"
      ]
    },
    {
      "cell_type": "markdown",
      "metadata": {
        "id": "bbZPeL95LU5h"
      },
      "source": [
        "### A minimalistic Exploratory Data Analysis"
      ]
    },
    {
      "cell_type": "code",
      "execution_count": null,
      "metadata": {
        "id": "EO2uIWsuLU5i"
      },
      "outputs": [],
      "source": [
        "# text_lengths = [len(t.split()) for t in train_texts]\n",
        "# ax = sns.histplot(data=text_lengths, kde=True, stat=\"density\")\n",
        "# ax.set_title(\"Texts length distribution (number of words)\");"
      ]
    },
    {
      "cell_type": "code",
      "source": [
        "test_texts"
      ],
      "metadata": {
        "colab": {
          "base_uri": "https://localhost:8080/"
        },
        "id": "rjyqaM6rvsmb",
        "outputId": "08f98b54-54e2-49b1-b3da-b51d12f43c02"
      },
      "execution_count": 9,
      "outputs": [
        {
          "output_type": "execute_result",
          "data": {
            "text/plain": [
              "['fiyatlari tl arasi porsiyonlari buyutmek mumkun',\n",
              " 'methetmek hakketmek',\n",
              " 'büyük merak gelip yemek haz etmek başka yer olmak',\n",
              " 'rezervasyon sirasinda ozel gun soylediginiz takdir sampanya ikramlari guzel jest',\n",
              " 'manzara yemek servis olmamis',\n",
              " 'buranin doneri demek efsane degil',\n",
              " 'yenmek kötü kebaplari ukalâ garson lüks restoran ödeyecegini alkol yemek fiyatiyla karsilasirsiniz',\n",
              " 'd somo izgara et quesadilla sipariz et',\n",
              " 'yakı çeşit çay biri mutlaka seviceksiniz',\n",
              " 'kalaba oturmak gürültü çekmek değmek',\n",
              " 'sıra lezzet',\n",
              " 'keyif almak yok yok çay para değmek demek övmek övmek bitirmek mizuno pudding beğenmek',\n",
              " 'şimdilerde göz ortalama mekân',\n",
              " 'yer bulabilirseniz',\n",
              " 'normal mekân normal tat',\n",
              " 'yemek eski güzel özellikle mantı başarı',\n",
              " 'olmak big chefs zincir',\n",
              " 'maalesef son senet kalite servis epey sıkıntı',\n",
              " 'hazir ürün yöre üretim ürün kullaniyor oluslari hosuma gitmek',\n",
              " 'zengin acik büfe menü',\n",
              " 'döner sarmak',\n",
              " 'i̇çerisi yemek kokmak çalışmak gerek negatif enerji varmak',\n",
              " 'vakit varmak kesinlikle ogle saat ugramayiniz',\n",
              " 'hari servis iyi garson güleryüz rahat mekân',\n",
              " 'arkadaş yazmak baş gitmek döner kısım oturmak dakika sipariş almak gelen olmak',\n",
              " 'fiyat ortalama ustunde malesef',\n",
              " 'ortami begenmedim kalabalik sinif yer',\n",
              " 'kurucesmede olmak rağmen dermek catma mekân',\n",
              " 'sevmek yemek kenar orta leziz',\n",
              " 'baslangiclarinin cogunu denemek hepside enfes',\n",
              " 'i̇thal peynir tabak peynir yeter çok ithal değmek',\n",
              " 'rezalet otesi mekân',\n",
              " 'balik deniz ürün sevmek balik kfcsi kıvam olmak kızarmak bol olmak sevmek',\n",
              " 'alkol çeşitli yemek dekorasyon barmen müşteri profil kadıköy dekl iyi mekân',\n",
              " 'i̇nşallah sade gün özgü negatif fıccın in tat damak gitmek',\n",
              " 'bosken soylemis oldugum makarna hizli gelmek mekanin dolmasiyla arkadasimin soylemis oldugu siparis unutmak defalarca hatirlatma yapmamiz gerekmek',\n",
              " 'özellikle güzel hava gitmek deniz kıyı masa oturmak epey bi sır bekleyebilirsiniz',\n",
              " 'un çikolatali pastasi agir diyet yapmak bulasmasin',\n",
              " 'alkol içki almadiginiz restda adam basi tl hesap cookk fazla üste gayet yemek',\n",
              " 'karakoyde yer âlâ siri cafe',\n",
              " 'yemek fena degil',\n",
              " 'zeytinyagli tabagi soyledik icinde fasulye barbunya biber dolmasi sarmak saksuka varit',\n",
              " 'geniş bahçe tera lokasyon yakı arkadaş yazmak akşamlaında açık haavada nargile keyfî yapmak mekân',\n",
              " 'nargile mevcut mekân genelde dolu',\n",
              " 'keyif sohbet ortamlari bütünlestiren ardindan damak biraktigi lezzet müdavi yapmak yer vardir',\n",
              " 'kalaba olmak çevre masa içmek iç hissetmek ferah',\n",
              " 'harikaydi',\n",
              " 'et kot net geri kala urunleri fena sayilmazdi',\n",
              " 'bahcesi huzur',\n",
              " 'sade manzara başka bence artı değer yok',\n",
              " 'fiyat asir uçmus',\n",
              " 'kavurmali pi tekrar ugrayacagim',\n",
              " 'burasi olmak lezzet yemek yapiyor sunu hijyen sicak kesinlikle gitmek',\n",
              " 'beşiktaş otobüs zincirlikuyu gelmek göz direk çarpmak mekân',\n",
              " 'ayri lezzet',\n",
              " 'vale hizmet',\n",
              " 'şube iyi pendik merkez an şube iyi',\n",
              " 'övgü üzerine gitmek fazla beklenti girmek normal bulacağınız şe bepenmeyebiliyorsunuz',\n",
              " 'tuzlamak meşhur balık',\n",
              " 'pide iyi hizmetide bence üst katmak tera iyi bütük kalaba göz ön akmak resmen hemen yan ağaç ilede fark hava katmak',\n",
              " 'garson arkadaş mekân manzara hizmet şahane lezzet adına söylemek yok',\n",
              " 'belli saat bistro sek o guzel',\n",
              " 'mart ayin son gun bugun berbatti burasi',\n",
              " 'genç ögren fiyatlari uygun tutmuslar',\n",
              " 'mantar çanak denenebilir',\n",
              " 'manzara iyi seçenek sunmak lakerda başta üzere bütün meze denemek değmek',\n",
              " 'son zaman büyük hayal kırık',\n",
              " 'ayrı son premier league maç veriyorlardı',\n",
              " 'i̇nternet resim göründügü güzel degildi',\n",
              " 'yemek önce i̇kram garson ilgi servis hız güzel',\n",
              " 'garson ilgi çay kötü',\n",
              " 'kısık yakı mekân şatobiryan isim et deney',\n",
              " 'i̇ngiliz cayi istedigimde sut getirmek gerekce kot oldugunh soylediler garson terslemek',\n",
              " 'göksun kenar şirin yer',\n",
              " 'zaman gitmek güler yüz ayrılmak',\n",
              " 'fiyat gayet mantikli islemek',\n",
              " 'burayi cok sevmek cok romantik cok tatli',\n",
              " 'sıcak samî i̇çten kütük ev cafe',\n",
              " 'servis hız saymak mekân dekorasyon gerçek güzel',\n",
              " 'besiktaki hakikî pide demek',\n",
              " 'gitmek iyi yer',\n",
              " 'kuru fasulye lezzet demek söz yok fiyat makul saymak mekân düğü salon bozmak',\n",
              " 'yemek super lezzet ogle yemeginde cok kalabalik saat sonrasinda rahat',\n",
              " 'sekmek orani yer cok ferahlatiyordu',\n",
              " 'happy hour icin vazgecilmez nokta',\n",
              " 'halka açik olmasi son derece güzel',\n",
              " 'sorbe dondurmasi güzel',\n",
              " 'canyon road big burger zaman favori',\n",
              " 'once kirk saat istegimiz soslari beklemek cunku tum sos baskalari tarafindan kullaniliyordu',\n",
              " 'kasarli köfte tanimimiz böyle demek sade',\n",
              " 'servis olmak memnun kalmak',\n",
              " 'er servis edildigi iftar sogudu',\n",
              " 'ne bilmek bura seviyorum',\n",
              " 'seyden ufak ufak tattik',\n",
              " 'kahvaltı gitmek garson servis eder görmek kadar yemek porsiyon küçük sunu hoş gitmek',\n",
              " 'bayılmak yer mekân hoş meze tatmak gerekli evet keşke fiyat insanî boyut muhteşem olur yapmak keyif alıyorum vermek par can acımak sade seyrek gitmek sebep orta yemek müzik herşey harika',\n",
              " 'guvecte yogurt salata iyi uclu',\n",
              " 'kahve içmek ister güzel tercih yemek yemek aynı şe söyleyemeyeceğim',\n",
              " 'taksim tarz göre keyifle gitmek mekân',\n",
              " 'cizbiz koftesi sutis moccachinosu dtox corbasi haftasonu hahvalti zenginligiyle tavsiye edebilecegim mekân manzarasi ulasim rahatligi konforuyle deneme tavsiye eder',\n",
              " 'tesis fetih pas korulugunun iç yer aliyor',\n",
              " 'arkadasim begendili tavuk ayni se yasadi',\n",
              " 'lezzet an yemek beklemek açıkçası',\n",
              " 'gerçek özelligi çesidi bol konu itibarî talep gören sikisik havasiz normal mekân fiyat hayli yüksek süper özelligi yemegi varmak söyleyin arkadaslar',\n",
              " 'cok rahat koltuklari',\n",
              " 'özellikle akşamları gitmek tavsiye eder köprü hisar işık yanmak ayrı bi zevk',\n",
              " 'sayida garson çalisiyor mekân dolu olunca yetmek',\n",
              " 'tereyagini manzara karistirinca yem yaninda yat',\n",
              " 'yemek lezzet']"
            ]
          },
          "metadata": {},
          "execution_count": 9
        }
      ]
    },
    {
      "cell_type": "markdown",
      "metadata": {
        "id": "HZskwBXWLU5k"
      },
      "source": [
        "### Fine-tuning BERT"
      ]
    },
    {
      "cell_type": "code",
      "execution_count": null,
      "metadata": {
        "colab": {
          "base_uri": "https://localhost:8080/",
          "height": 131,
          "referenced_widgets": [
            "55accdde496c4e009968893d029b7232",
            "2558e0506ba24b35996eb52ccd799da1",
            "e5e4b1635f404835be7c25d99a556444",
            "bd004aaf678842c3beb868a5d23cc274",
            "f178977698c146cb868e9b495b7ca3e7",
            "89b5c12ee00f40ab81f89d6c22b420ab",
            "c3a9d87c22214add974e20b1f71f02ef",
            "064948a89b0c478291e030cc84d44256",
            "0fde9c77169047bcb9ced5d5197bca87",
            "a2521759a3e7400fb5db2de2f1061d50",
            "0fd4d353a5e84062a4e63eb74e2df2b5",
            "eb7778b5a1a14961882b9355a10cd162",
            "4a34ae9f7e174bea9ae964300b2e2b6c",
            "4c2697199a1e435881467d74b8540374",
            "ef2553ac53f946b69cb1e3429c9681fc",
            "578b58ca12af4f01bbd88a678246abbd",
            "bc86192f543a4dd18e18ee20a59b75e1",
            "a2147e75de434069860347724ad9570d",
            "6322d6ad7c434579925370841557d744",
            "082edcaad4fe4887989e666f6eb7a11b",
            "b28de4f234184b119b23180b2663da75",
            "5c859e4477124273a32fe6006faa062a",
            "708a80c4792344fd890e3ffd3390e469",
            "25d5df5eb13544a48070a99ddf7b7864",
            "4e911bc98aa74624a94be6e8dd681757",
            "ee3271bef7cc4f528c291217c47cd900",
            "18677d0d4b844e3297ea2e52c64f1d2d",
            "da81326c16b347f989b599332ece1b03",
            "ccfcf83244254d2bb436790ba1c197cf",
            "84d4ae0fa3d245678ca8dbe1230c1be2",
            "5bfc044bde1d47729810a3a6f505cdf5",
            "b6c10bcf246847d1973d126834120189",
            "05a85bbcb99d49a5a2517fb4ca8d8d49"
          ]
        },
        "id": "kZ4gChJJLU5k",
        "outputId": "9f157e3b-8651-41a3-faf7-e080c5e9f5b7"
      },
      "outputs": [
        {
          "data": {
            "application/vnd.jupyter.widget-view+json": {
              "model_id": "55accdde496c4e009968893d029b7232",
              "version_major": 2,
              "version_minor": 0
            },
            "text/plain": [
              "Downloading:   0%|          | 0.00/386 [00:00<?, ?B/s]"
            ]
          },
          "metadata": {},
          "output_type": "display_data"
        },
        {
          "data": {
            "application/vnd.jupyter.widget-view+json": {
              "model_id": "eb7778b5a1a14961882b9355a10cd162",
              "version_major": 2,
              "version_minor": 0
            },
            "text/plain": [
              "Downloading:   0%|          | 0.00/1.12M [00:00<?, ?B/s]"
            ]
          },
          "metadata": {},
          "output_type": "display_data"
        },
        {
          "data": {
            "application/vnd.jupyter.widget-view+json": {
              "model_id": "708a80c4792344fd890e3ffd3390e469",
              "version_major": 2,
              "version_minor": 0
            },
            "text/plain": [
              "Downloading:   0%|          | 0.00/60.0 [00:00<?, ?B/s]"
            ]
          },
          "metadata": {},
          "output_type": "display_data"
        },
        {
          "data": {
            "application/vnd.google.colaboratory.intrinsic+json": {
              "type": "string"
            },
            "text/plain": [
              "'[CLS] yemek iyi ama servis kötü [SEP]'"
            ]
          },
          "execution_count": 7,
          "metadata": {},
          "output_type": "execute_result"
        }
      ],
      "source": [
        "MODEL_NAME = 'dbmdz/bert-base-turkish-128k-cased'\n",
        "MAX_LENGTH = 39  # We truncate anything after the 200-th word to speed up training\n",
        "\n",
        "config = BertConfig.from_pretrained(MODEL_NAME)\n",
        "\n",
        "tokenizer = BertTokenizer.from_pretrained(MODEL_NAME)\n",
        "\n",
        "train_encodings = tokenizer(train_texts, truncation=True, padding=True, \n",
        "                            max_length=MAX_LENGTH, return_tensors=\"tf\")\n",
        "test_encodings = tokenizer(test_texts, truncation=True, padding=True, \n",
        "                           max_length=MAX_LENGTH, return_tensors=\"tf\")\n",
        "\n",
        "train_dataset = tf.data.Dataset.from_tensor_slices((dict(train_encodings), train_labels))\n",
        "test_dataset = tf.data.Dataset.from_tensor_slices((dict(test_encodings), test_labels))\n",
        "\n",
        "sample_text = \"yemek iyi ama servis kötü\"\n",
        "tokenizer.decode(tokenizer(sample_text)[\"input_ids\"])"
      ]
    },
    {
      "cell_type": "code",
      "execution_count": null,
      "metadata": {
        "colab": {
          "base_uri": "https://localhost:8080/"
        },
        "id": "pOxUIewBIOOi",
        "outputId": "bed6b98f-adc8-40da-be83-d3f6402dba6f"
      },
      "outputs": [
        {
          "data": {
            "text/plain": [
              "<TensorSliceDataset element_spec=({'input_ids': TensorSpec(shape=(39,), dtype=tf.int32, name=None), 'token_type_ids': TensorSpec(shape=(39,), dtype=tf.int32, name=None), 'attention_mask': TensorSpec(shape=(39,), dtype=tf.int32, name=None)}, TensorSpec(shape=(32,), dtype=tf.int64, name=None))>"
            ]
          },
          "execution_count": 19,
          "metadata": {},
          "output_type": "execute_result"
        }
      ],
      "source": [
        "test_dataset"
      ]
    },
    {
      "cell_type": "code",
      "execution_count": null,
      "metadata": {
        "colab": {
          "base_uri": "https://localhost:8080/"
        },
        "id": "5EDDl6onLU5m",
        "outputId": "5add547e-853d-4a7e-e6fd-e2f9168cb08e"
      },
      "outputs": [
        {
          "name": "stdout",
          "output_type": "stream",
          "text": [
            "{'input_ids': <tf.Tensor: shape=(39,), dtype=int32, numpy=\n",
            "array([     2,   5735,   5928, 100582,   1054,   3272,   2351,  12812,\n",
            "            3,      0,      0,      0,      0,      0,      0,      0,\n",
            "            0,      0,      0,      0,      0,      0,      0,      0,\n",
            "            0,      0,      0,      0,      0,      0,      0,      0,\n",
            "            0,      0,      0,      0,      0,      0,      0],\n",
            "      dtype=int32)>, 'token_type_ids': <tf.Tensor: shape=(39,), dtype=int32, numpy=\n",
            "array([0, 0, 0, 0, 0, 0, 0, 0, 0, 0, 0, 0, 0, 0, 0, 0, 0, 0, 0, 0, 0, 0,\n",
            "       0, 0, 0, 0, 0, 0, 0, 0, 0, 0, 0, 0, 0, 0, 0, 0, 0], dtype=int32)>, 'attention_mask': <tf.Tensor: shape=(39,), dtype=int32, numpy=\n",
            "array([1, 1, 1, 1, 1, 1, 1, 1, 1, 0, 0, 0, 0, 0, 0, 0, 0, 0, 0, 0, 0, 0,\n",
            "       0, 0, 0, 0, 0, 0, 0, 0, 0, 0, 0, 0, 0, 0, 0, 0, 0], dtype=int32)>}\n"
          ]
        }
      ],
      "source": [
        "for x, y in train_dataset.take(1):\n",
        "    print(x)"
      ]
    },
    {
      "cell_type": "code",
      "execution_count": null,
      "metadata": {
        "colab": {
          "base_uri": "https://localhost:8080/"
        },
        "id": "PlfWeW0cLU5n",
        "outputId": "96bb6ebd-764d-471d-b563-3ffac6f9a9f7"
      },
      "outputs": [
        {
          "data": {
            "text/plain": [
              "32"
            ]
          },
          "execution_count": 9,
          "metadata": {},
          "output_type": "execute_result"
        }
      ],
      "source": [
        "train_labels.shape[1]"
      ]
    },
    {
      "cell_type": "code",
      "execution_count": null,
      "metadata": {
        "id": "L1vCIy5tLU5n"
      },
      "outputs": [],
      "source": [
        "# def compute_metrics(p): # Multiclass için bu, multilabel çalışmaz.\n",
        "#     pred, labels = p\n",
        "#     pred = np.argmax(pred, axis=1)\n",
        "\n",
        "#     accuracy = accuracy_score(y_true=labels, y_pred=pred)\n",
        "#     recall = recall_score(y_true=labels, y_pred=pred)\n",
        "#     precision = precision_score(y_true=labels, y_pred=pred)\n",
        "#     f1 = f1_score(y_true=labels, y_pred=pred)\n",
        "\n",
        "#     return {\"accuracy\": accuracy, \n",
        "#             \"precision\": precision, \n",
        "#             \"recall\": recall, \n",
        "#             \"f1\": f1}"
      ]
    },
    {
      "cell_type": "code",
      "execution_count": null,
      "metadata": {
        "colab": {
          "base_uri": "https://localhost:8080/",
          "height": 156,
          "referenced_widgets": [
            "9e05f8f208b6448a95886a180903eda1",
            "4e98b35d2e4a400cb64768ca1572af8a",
            "5fc633e9223d49f0ae58ea2e64c2044c",
            "21cf97febfd94457a30e30e5178c060c",
            "7eb1d76273ef4057bbe3ee27cc3e789f",
            "fb8e4f100c294105abb2aaa4430805ed",
            "cf203274c78b438bbc80c8e93fa90ff9",
            "a3d6534d513e405ca071ca1e65682cd2",
            "26d61414a61d478fb91787d63e8cf300",
            "69d4c989c0ba4d708f200fa6b60c702a",
            "2454fa4d24a045be9194bd81c519b64f"
          ]
        },
        "id": "pESJR8-wLU5o",
        "outputId": "59e2fd74-9a63-44e6-81b7-3c8ff4980bb3"
      },
      "outputs": [
        {
          "data": {
            "application/vnd.jupyter.widget-view+json": {
              "model_id": "9e05f8f208b6448a95886a180903eda1",
              "version_major": 2,
              "version_minor": 0
            },
            "text/plain": [
              "Downloading:   0%|          | 0.00/1.06G [00:00<?, ?B/s]"
            ]
          },
          "metadata": {},
          "output_type": "display_data"
        },
        {
          "name": "stderr",
          "output_type": "stream",
          "text": [
            "Some layers from the model checkpoint at dbmdz/bert-base-turkish-128k-cased were not used when initializing TFBertModel: ['nsp___cls', 'mlm___cls']\n",
            "- This IS expected if you are initializing TFBertModel from the checkpoint of a model trained on another task or with another architecture (e.g. initializing a BertForSequenceClassification model from a BertForPreTraining model).\n",
            "- This IS NOT expected if you are initializing TFBertModel from the checkpoint of a model that you expect to be exactly identical (initializing a BertForSequenceClassification model from a BertForSequenceClassification model).\n",
            "All the layers of TFBertModel were initialized from the model checkpoint at dbmdz/bert-base-turkish-128k-cased.\n",
            "If your task is similar to the task the model of the checkpoint was trained on, you can already use TFBertModel for predictions without further training.\n"
          ]
        }
      ],
      "source": [
        "transformer_model = TFBertModel.from_pretrained(\n",
        "    MODEL_NAME, \n",
        "    output_hidden_states=False\n",
        ")"
      ]
    },
    {
      "cell_type": "code",
      "execution_count": null,
      "metadata": {
        "id": "5jRjuvMkLU5p"
      },
      "outputs": [],
      "source": [
        "bert = transformer_model.layers[0]\n",
        "\n",
        "# The input is a dictionary of word identifiers \n",
        "input_ids = Input(shape=(MAX_LENGTH,), name='input_ids', dtype='int32')\n",
        "inputs = {'input_ids': input_ids}\n",
        "\n",
        "# Here we select the representation of the first token ([CLS]) for classification\n",
        "# (a.k.a. \"pooled representation\")\n",
        "bert_model = bert(inputs)[-1]\n",
        "\n",
        "# Add a dropout layer and the output layer\n",
        "dropout = Dropout(0.2, name='pooled_output')(bert_model)\n",
        "\n",
        "x = tf.keras.layers.Dense(128, activation = tf.nn.silu,\n",
        "                          kernel_regularizer = tf.keras.regularizers.l2(1e-3))(dropout)\n",
        "\n",
        "# pooled_output = dropout(bert_model, training=False)\n",
        "output_bert = Dense(\n",
        "    units=train_labels.shape[1],\n",
        "    activation=\"sigmoid\",  # Choose a sigmoid for multi-label classification\n",
        "    name='output_bert'\n",
        ")(x)"
      ]
    },
    {
      "cell_type": "code",
      "execution_count": null,
      "metadata": {
        "colab": {
          "base_uri": "https://localhost:8080/"
        },
        "id": "4RAi4BaVLU5q",
        "outputId": "bf28e8a3-c344-4f3b-994e-1c7cb2a30e61"
      },
      "outputs": [
        {
          "name": "stdout",
          "output_type": "stream",
          "text": [
            "Model: \"BERT_MultiLabel\"\n",
            "_________________________________________________________________\n",
            " Layer (type)                Output Shape              Param #   \n",
            "=================================================================\n",
            " input_ids (InputLayer)      [(None, 39)]              0         \n",
            "                                                                 \n",
            " bert (TFBertMainLayer)      TFBaseModelOutputWithPoo  184345344 \n",
            "                             lingAndCrossAttentions(l            \n",
            "                             ast_hidden_state=(None,             \n",
            "                             39, 768),                           \n",
            "                              pooler_output=(None, 76            \n",
            "                             8),                                 \n",
            "                              past_key_values=None, h            \n",
            "                             idden_states=None, atten            \n",
            "                             tions=None, cross_attent            \n",
            "                             ions=None)                          \n",
            "                                                                 \n",
            " pooled_output (Dropout)     (None, 768)               0         \n",
            "                                                                 \n",
            " dense (Dense)               (None, 128)               98432     \n",
            "                                                                 \n",
            " output_bert (Dense)         (None, 32)                4128      \n",
            "                                                                 \n",
            "=================================================================\n",
            "Total params: 184,447,904\n",
            "Trainable params: 184,447,904\n",
            "Non-trainable params: 0\n",
            "_________________________________________________________________\n"
          ]
        }
      ],
      "source": [
        "model = Model(inputs=inputs, outputs=output_bert, name='BERT_MultiLabel')\n",
        "\n",
        "# for layer in model.layers[:3]:\n",
        "#     layer.trainable = False\n",
        "\n",
        "model.summary()"
      ]
    },
    {
      "cell_type": "markdown",
      "metadata": {
        "id": "7rlHSodNLU5s"
      },
      "source": [
        "### TRAIN MODEL"
      ]
    },
    {
      "cell_type": "code",
      "execution_count": null,
      "metadata": {
        "colab": {
          "base_uri": "https://localhost:8080/"
        },
        "id": "Bvo3N1jaLU5s",
        "outputId": "d42d5015-43e5-4f5c-b51e-ba6afdcf3860"
      },
      "outputs": [
        {
          "name": "stdout",
          "output_type": "stream",
          "text": [
            "Looking in indexes: https://pypi.org/simple, https://us-python.pkg.dev/colab-wheels/public/simple/\n",
            "Collecting tensorflow_addons\n",
            "  Downloading tensorflow_addons-0.17.0-cp37-cp37m-manylinux_2_17_x86_64.manylinux2014_x86_64.whl (1.1 MB)\n",
            "\u001b[K     |████████████████████████████████| 1.1 MB 8.5 MB/s \n",
            "\u001b[?25hRequirement already satisfied: packaging in /usr/local/lib/python3.7/dist-packages (from tensorflow_addons) (21.3)\n",
            "Requirement already satisfied: typeguard>=2.7 in /usr/local/lib/python3.7/dist-packages (from tensorflow_addons) (2.7.1)\n",
            "Requirement already satisfied: pyparsing!=3.0.5,>=2.0.2 in /usr/local/lib/python3.7/dist-packages (from packaging->tensorflow_addons) (3.0.9)\n",
            "Installing collected packages: tensorflow-addons\n",
            "Successfully installed tensorflow-addons-0.17.0\n"
          ]
        }
      ],
      "source": [
        "!pip install tensorflow_addons"
      ]
    },
    {
      "cell_type": "code",
      "execution_count": null,
      "metadata": {
        "id": "mlmR-HkBLU5s"
      },
      "outputs": [],
      "source": [
        "from tensorflow_addons.metrics import F1Score\n",
        "from tensorflow_addons.optimizers import LazyAdam, Lookahead, MultiOptimizer\n",
        "from tensorflow_addons.losses import SigmoidFocalCrossEntropy"
      ]
    },
    {
      "cell_type": "code",
      "execution_count": null,
      "metadata": {
        "colab": {
          "base_uri": "https://localhost:8080/"
        },
        "id": "wx4U9NRBMwHb",
        "outputId": "5a3d697c-e70d-4695-ca9d-77a7c5ff9b60"
      },
      "outputs": [
        {
          "data": {
            "text/plain": [
              "<tf.Tensor: shape=(), dtype=float32, numpy=15.356171>"
            ]
          },
          "execution_count": 19,
          "metadata": {},
          "output_type": "execute_result"
        }
      ],
      "source": [
        "# fl = SigmoidFocalCrossEntropy(reduction = tf.keras.losses.Reduction.AUTO)\n",
        "# loss = fl(\n",
        "#     y_true = [[1.0, 0, 0 , 1.0], [1.0, 0, 0, 0]],y_pred = [[0.97, 0, 0, 0], [0, 1, 0, 1] ])\n",
        "# loss"
      ]
    },
    {
      "cell_type": "code",
      "execution_count": null,
      "metadata": {
        "colab": {
          "background_save": true,
          "base_uri": "https://localhost:8080/"
        },
        "id": "NzXL26UXLU5t",
        "outputId": "de937238-b0ed-435b-c3a0-6f1db83a487f"
      },
      "outputs": [
        {
          "name": "stdout",
          "output_type": "stream",
          "text": [
            "Epoch 1/100\n"
          ]
        },
        {
          "name": "stderr",
          "output_type": "stream",
          "text": [
            "/usr/local/lib/python3.7/dist-packages/keras/engine/functional.py:559: UserWarning: Input dict contained keys ['token_type_ids', 'attention_mask'] which did not match any model input. They will be ignored by the model.\n",
            "  inputs = self._flatten_to_reference_inputs(inputs)\n"
          ]
        },
        {
          "name": "stdout",
          "output_type": "stream",
          "text": [
            "62/62 [==============================] - 357s 5s/step - loss: 0.5830 - f1_score: 0.0725 - binary_accuracy: 0.8906 - average_precision: 0.0451 - val_loss: 0.4518 - val_f1_score: 0.0532 - val_binary_accuracy: 0.9536 - val_average_precision: 0.0901\n",
            "Epoch 2/100\n",
            "62/62 [==============================] - 298s 5s/step - loss: 0.4388 - f1_score: 0.0539 - binary_accuracy: 0.9579 - average_precision: 0.0456 - val_loss: 0.4077 - val_f1_score: 0.0123 - val_binary_accuracy: 0.9553 - val_average_precision: 0.0983\n",
            "Epoch 3/100\n",
            "62/62 [==============================] - 292s 5s/step - loss: 0.4031 - f1_score: 0.0421 - binary_accuracy: 0.9595 - average_precision: 0.0483 - val_loss: 0.3925 - val_f1_score: 0.0000e+00 - val_binary_accuracy: 0.9556 - val_average_precision: 0.0974\n",
            "Epoch 4/100\n",
            "62/62 [==============================] - 296s 5s/step - loss: 0.3876 - f1_score: 0.0149 - binary_accuracy: 0.9596 - average_precision: 0.0439 - val_loss: 0.3848 - val_f1_score: 0.0000e+00 - val_binary_accuracy: 0.9561 - val_average_precision: 0.0787\n",
            "Epoch 5/100\n",
            "62/62 [==============================] - 293s 5s/step - loss: 0.3780 - f1_score: 0.0226 - binary_accuracy: 0.9597 - average_precision: 0.0458 - val_loss: 0.3785 - val_f1_score: 0.0000e+00 - val_binary_accuracy: 0.9561 - val_average_precision: 0.0902\n",
            "Epoch 6/100\n",
            "62/62 [==============================] - 298s 5s/step - loss: 0.3709 - f1_score: 0.0209 - binary_accuracy: 0.9597 - average_precision: 0.0493 - val_loss: 0.3747 - val_f1_score: 0.0000e+00 - val_binary_accuracy: 0.9561 - val_average_precision: 0.0920\n",
            "Epoch 7/100\n",
            "62/62 [==============================] - 307s 5s/step - loss: 0.3672 - f1_score: 0.0225 - binary_accuracy: 0.9597 - average_precision: 0.0484 - val_loss: 0.3714 - val_f1_score: 0.0000e+00 - val_binary_accuracy: 0.9561 - val_average_precision: 0.0938\n",
            "Epoch 8/100\n",
            "62/62 [==============================] - 307s 5s/step - loss: 0.3640 - f1_score: 0.0269 - binary_accuracy: 0.9596 - average_precision: 0.0469 - val_loss: 0.3685 - val_f1_score: 0.0127 - val_binary_accuracy: 0.9561 - val_average_precision: 0.1026\n",
            "Epoch 9/100\n",
            "62/62 [==============================] - 316s 5s/step - loss: 0.3599 - f1_score: 0.0329 - binary_accuracy: 0.9597 - average_precision: 0.0566 - val_loss: 0.3667 - val_f1_score: 0.0127 - val_binary_accuracy: 0.9561 - val_average_precision: 0.1046\n",
            "Epoch 10/100\n",
            "62/62 [==============================] - 314s 5s/step - loss: 0.3582 - f1_score: 0.0369 - binary_accuracy: 0.9598 - average_precision: 0.0546 - val_loss: 0.3641 - val_f1_score: 0.0000e+00 - val_binary_accuracy: 0.9561 - val_average_precision: 0.1066\n",
            "Epoch 11/100\n",
            "62/62 [==============================] - 308s 5s/step - loss: 0.3555 - f1_score: 0.0372 - binary_accuracy: 0.9597 - average_precision: 0.0585 - val_loss: 0.3620 - val_f1_score: 0.0377 - val_binary_accuracy: 0.9561 - val_average_precision: 0.1070\n",
            "Epoch 12/100\n",
            "28/62 [============>.................] - ETA: 2:45 - loss: 0.3523 - f1_score: 0.0626 - binary_accuracy: 0.9598 - average_precision: 0.0655"
          ]
        }
      ],
      "source": [
        "loss = BinaryCrossentropy(reduction = tf.keras.losses.Reduction.AUTO)\n",
        "\n",
        "optimizers = [\n",
        "    Lookahead(LazyAdam(1e-5), sync_period = 5),\n",
        "    Adam(1e-5)\n",
        "]\n",
        "optimizers_and_layers = [(optimizers[0], model.layers[:2]), \n",
        "                         (optimizers[1], model.layers[2:])]\n",
        "optimizer = MultiOptimizer(optimizers_and_layers)\n",
        "\n",
        "metrics = [\n",
        "    F1Score(num_classes = train_labels.shape[1],\n",
        "            average = 'micro',\n",
        "            threshold = 0.4),\n",
        "           \n",
        "    \"binary_accuracy\",\n",
        "    \n",
        "    AUC(name=\"average_precision\", \n",
        "        curve=\"PR\", \n",
        "        multi_label=True)\n",
        "]\n",
        " \n",
        "model.compile(optimizer=optimizer, loss=loss, metrics=metrics)\n",
        "\n",
        "training_history = model.fit(\n",
        "    train_dataset.shuffle(1000).batch(16).prefetch(tf.data.AUTOTUNE), \n",
        "    epochs=100, \n",
        "    validation_data=test_dataset.batch(16).prefetch(tf.data.AUTOTUNE)\n",
        ")"
      ]
    },
    {
      "cell_type": "code",
      "execution_count": null,
      "metadata": {
        "id": "E1kpNdMfFU5K"
      },
      "outputs": [],
      "source": [
        ""
      ]
    },
    {
      "cell_type": "code",
      "execution_count": null,
      "metadata": {
        "colab": {
          "base_uri": "https://localhost:8080/"
        },
        "id": "RI2X_YhLLU5u",
        "outputId": "e4c9955e-6323-459d-e6c2-32dbaf5a5c91"
      },
      "outputs": [
        {
          "name": "stdout",
          "output_type": "stream",
          "text": [
            "7/7 [==============================] - 1s 72ms/step - loss: 0.2590 - f1_score: 0.4689 - binary_accuracy: 0.9607 - average_precision: 0.2828\n"
          ]
        }
      ],
      "source": [
        "benchmarks = model.evaluate(\n",
        "    test_dataset.batch(16), \n",
        "    return_dict=True\n",
        ")"
      ]
    },
    {
      "cell_type": "code",
      "execution_count": null,
      "metadata": {
        "id": "P_WSW-B1LU5v"
      },
      "outputs": [],
      "source": [
        "def convert(label_string, label_onehot):\n",
        "    labels = []\n",
        "    for i, label in enumerate(label_string):\n",
        "        if label_onehot[i]:\n",
        "            labels.append(label)\n",
        "    if len(labels) == 0:\n",
        "        labels.append(\"NEUTRAL\")\n",
        "    return labels"
      ]
    },
    {
      "cell_type": "code",
      "execution_count": null,
      "metadata": {
        "colab": {
          "base_uri": "https://localhost:8080/"
        },
        "id": "JLpRwCqMLU5v",
        "outputId": "320b1af2-b8c8-4894-8f88-203f7e53771d"
      },
      "outputs": [
        {
          "name": "stderr",
          "output_type": "stream",
          "text": [
            "/usr/local/lib/python3.7/dist-packages/keras/engine/functional.py:559: UserWarning: Input dict contained keys ['token_type_ids', 'attention_mask'] which did not match any model input. They will be ignored by the model.\n",
            "  inputs = self._flatten_to_reference_inputs(inputs)\n"
          ]
        },
        {
          "name": "stdout",
          "output_type": "stream",
          "text": [
            "10 sample prediction\n",
            "predicted: [0. 0. 0. 0. 1. 0. 0. 0. 0. 0. 0. 0. 0. 0. 0. 0. 0. 0. 0. 0. 0. 0. 0. 0.\n",
            " 0. 0. 0. 0. 0. 0. 0. 0.] ['negative - FOOD#PRICES'] Actual Label: (['neutral - FOOD#PRICES', 'neutral - FOOD#STYLE_OPTIONS'])\n",
            "predicted: [0. 0. 0. 0. 0. 0. 0. 0. 1. 0. 0. 0. 0. 0. 0. 0. 0. 0. 0. 0. 0. 0. 0. 0.\n",
            " 0. 0. 0. 0. 0. 0. 0. 0.] ['negative - RESTAURANT#GENERAL'] Actual Label: (['negative - RESTAURANT#GENERAL'])\n",
            "predicted: [0. 0. 0. 0. 0. 0. 0. 0. 0. 0. 0. 0. 0. 0. 0. 0. 0. 0. 0. 0. 0. 0. 0. 0.\n",
            " 0. 1. 0. 0. 0. 0. 0. 0.] ['positive - FOOD#QUALITY'] Actual Label: (['negative - FOOD#QUALITY'])\n",
            "predicted: [0. 0. 0. 0. 0. 0. 0. 0. 0. 0. 1. 0. 0. 0. 0. 0. 0. 0. 0. 0. 0. 0. 0. 0.\n",
            " 0. 0. 0. 0. 0. 0. 0. 0.] ['negative - SERVICE#GENERAL'] Actual Label: (['positive - DRINKS#STYLE_OPTIONS', 'positive - SERVICE#GENERAL'])\n",
            "predicted: [0. 0. 0. 0. 0. 0. 0. 0. 0. 0. 1. 0. 0. 0. 0. 0. 0. 0. 0. 0. 0. 1. 0. 0.\n",
            " 0. 0. 0. 0. 0. 0. 0. 0.] ['negative - SERVICE#GENERAL', 'positive - AMBIENCE#GENERAL'] Actual Label: (['negative - FOOD#QUALITY', 'negative - SERVICE#GENERAL', 'positive - AMBIENCE#GENERAL'])\n",
            "predicted: [0. 0. 0. 0. 0. 0. 0. 0. 0. 0. 0. 0. 0. 0. 0. 0. 0. 0. 0. 0. 0. 0. 0. 0.\n",
            " 0. 0. 0. 0. 0. 0. 0. 0.] ['NEUTRAL'] Actual Label: (['negative - FOOD#QUALITY'])\n",
            "predicted: [0. 0. 0. 0. 0. 1. 0. 0. 0. 0. 0. 0. 0. 0. 0. 0. 0. 0. 0. 0. 0. 0. 0. 0.\n",
            " 0. 0. 0. 0. 0. 0. 0. 0.] ['negative - FOOD#QUALITY'] Actual Label: (['negative - FOOD#QUALITY', 'negative - RESTAURANT#PRICES', 'negative - SERVICE#GENERAL'])\n",
            "predicted: [0. 0. 0. 0. 0. 0. 0. 0. 0. 0. 0. 0. 0. 0. 0. 0. 0. 0. 0. 0. 0. 0. 0. 0.\n",
            " 0. 1. 0. 0. 0. 0. 0. 0.] ['positive - FOOD#QUALITY'] Actual Label: (['neutral - FOOD#QUALITY'])\n",
            "predicted: [0. 0. 0. 0. 0. 0. 0. 0. 0. 0. 0. 0. 0. 0. 0. 0. 0. 0. 0. 0. 0. 0. 0. 1.\n",
            " 0. 0. 0. 0. 0. 0. 0. 0.] ['positive - DRINKS#STYLE_OPTIONS'] Actual Label: (['positive - DRINKS#STYLE_OPTIONS'])\n",
            "predicted: [1. 0. 0. 0. 0. 0. 0. 0. 0. 0. 0. 0. 0. 0. 0. 0. 0. 0. 0. 0. 0. 0. 0. 0.\n",
            " 0. 0. 0. 0. 0. 0. 0. 0.] ['negative - AMBIENCE#GENERAL'] Actual Label: (['negative - AMBIENCE#GENERAL'])\n"
          ]
        }
      ],
      "source": [
        "predictions = model.predict(test_dataset.batch(batch_size=1).take(10))"
      ]
    },
    {
      "cell_type": "code",
      "execution_count": null,
      "metadata": {
        "id": "mcxN_f-wxbcZ"
      },
      "outputs": [],
      "source": [
        "preds=[]\n",
        "labels = []\n",
        "threshold = 0.4\n",
        "for pred,(a,b) in zip(predictions, test_dataset):\n",
        "    pred[pred>threshold]=1\n",
        "    pred[pred<=threshold]=0\n",
        "    name = str(convert(label_names, pred))\n",
        "    labels.append(name)\n",
        "    y.append(pred)"
      ]
    },
    {
      "cell_type": "code",
      "execution_count": null,
      "metadata": {
        "colab": {
          "base_uri": "https://localhost:8080/",
          "height": 252
        },
        "id": "NkiTTco4yGOp",
        "outputId": "250a1e73-20f3-4fda-dea9-851ccc1b6844"
      },
      "outputs": [
        {
          "ename": "TypeError",
          "evalue": "ignored",
          "output_type": "error",
          "traceback": [
            "\u001b[0;31m---------------------------------------------------------------------------\u001b[0m",
            "\u001b[0;31mTypeError\u001b[0m                                 Traceback (most recent call last)",
            "\u001b[0;32m<ipython-input-28-7f9885f60f2f>\u001b[0m in \u001b[0;36m<module>\u001b[0;34m()\u001b[0m\n\u001b[1;32m      4\u001b[0m \u001b[0;31m# Creating plot\u001b[0m\u001b[0;34m\u001b[0m\u001b[0;34m\u001b[0m\u001b[0;34m\u001b[0m\u001b[0m\n\u001b[1;32m      5\u001b[0m \u001b[0mfig\u001b[0m \u001b[0;34m=\u001b[0m \u001b[0mplt\u001b[0m\u001b[0;34m.\u001b[0m\u001b[0mfigure\u001b[0m\u001b[0;34m(\u001b[0m\u001b[0mfigsize\u001b[0m \u001b[0;34m=\u001b[0m\u001b[0;34m(\u001b[0m\u001b[0;36m10\u001b[0m\u001b[0;34m,\u001b[0m \u001b[0;36m7\u001b[0m\u001b[0;34m)\u001b[0m\u001b[0;34m)\u001b[0m\u001b[0;34m\u001b[0m\u001b[0;34m\u001b[0m\u001b[0m\n\u001b[0;32m----> 6\u001b[0;31m \u001b[0mplt\u001b[0m\u001b[0;34m.\u001b[0m\u001b[0mpie\u001b[0m\u001b[0;34m(\u001b[0m\u001b[0mlabels\u001b[0m\u001b[0;34m=\u001b[0m\u001b[0mlabels\u001b[0m\u001b[0;34m)\u001b[0m\u001b[0;34m\u001b[0m\u001b[0;34m\u001b[0m\u001b[0m\n\u001b[0m\u001b[1;32m      7\u001b[0m \u001b[0;34m\u001b[0m\u001b[0m\n\u001b[1;32m      8\u001b[0m \u001b[0;31m# show plot\u001b[0m\u001b[0;34m\u001b[0m\u001b[0;34m\u001b[0m\u001b[0;34m\u001b[0m\u001b[0m\n",
            "\u001b[0;31mTypeError\u001b[0m: pie() missing 1 required positional argument: 'x'"
          ]
        },
        {
          "data": {
            "text/plain": [
              "<Figure size 720x504 with 0 Axes>"
            ]
          },
          "metadata": {},
          "output_type": "display_data"
        }
      ],
      "source": [
        "import matplotlib.pyplot as plt\n",
        "import seaborn as sns\n",
        "\n",
        "# Creating plot\n",
        "fig = plt.figure(figsize =(10, 7))\n",
        "plt.pie(labels=labels)\n",
        " \n",
        "# show plot\n",
        "plt.show()"
      ]
    },
    {
      "cell_type": "code",
      "execution_count": null,
      "metadata": {
        "colab": {
          "base_uri": "https://localhost:8080/"
        },
        "id": "UhnHB-kWLU5v",
        "outputId": "a2b21fc2-9a7c-4761-8267-6aff610d6f00"
      },
      "outputs": [
        {
          "data": {
            "text/plain": [
              "array([[0., 0., 0., 0., 1., 0., 0., 0., 0., 0., 0., 0., 0., 0., 0., 0.,\n",
              "        0., 0., 0., 0., 0., 0., 0., 0., 0., 0., 0., 0., 0., 0., 0., 0.],\n",
              "       [0., 0., 0., 0., 0., 0., 0., 0., 1., 0., 0., 0., 0., 0., 0., 0.,\n",
              "        0., 0., 0., 0., 0., 0., 0., 0., 0., 0., 0., 0., 0., 0., 0., 0.],\n",
              "       [0., 0., 0., 0., 0., 1., 0., 0., 1., 0., 0., 0., 0., 0., 0., 0.,\n",
              "        0., 0., 0., 0., 0., 0., 0., 0., 0., 0., 0., 0., 0., 0., 0., 0.],\n",
              "       [0., 0., 0., 0., 0., 0., 0., 0., 0., 0., 1., 0., 0., 0., 0., 0.,\n",
              "        0., 0., 0., 0., 0., 0., 0., 0., 0., 0., 0., 0., 0., 0., 0., 0.],\n",
              "       [0., 0., 0., 0., 0., 0., 0., 0., 0., 0., 1., 0., 0., 0., 0., 0.,\n",
              "        0., 0., 0., 0., 0., 1., 0., 0., 0., 0., 0., 0., 0., 0., 0., 0.],\n",
              "       [0., 0., 0., 0., 0., 0., 0., 0., 1., 0., 0., 0., 0., 0., 0., 0.,\n",
              "        0., 0., 0., 0., 0., 0., 0., 0., 0., 0., 0., 0., 0., 0., 0., 0.],\n",
              "       [0., 0., 0., 0., 0., 0., 0., 0., 0., 0., 0., 0., 0., 0., 0., 0.,\n",
              "        0., 0., 0., 0., 0., 0., 0., 0., 0., 0., 0., 0., 0., 0., 0., 0.],\n",
              "       [0., 0., 0., 0., 0., 0., 0., 0., 0., 0., 0., 0., 0., 0., 0., 0.,\n",
              "        0., 0., 0., 0., 0., 0., 0., 0., 0., 1., 0., 0., 0., 0., 0., 0.],\n",
              "       [0., 0., 0., 0., 0., 0., 0., 0., 0., 0., 0., 0., 0., 0., 0., 0.,\n",
              "        0., 0., 0., 0., 0., 0., 0., 1., 0., 0., 0., 0., 0., 0., 0., 0.],\n",
              "       [1., 0., 0., 0., 0., 0., 0., 0., 0., 0., 0., 0., 0., 0., 0., 0.,\n",
              "        0., 0., 0., 0., 0., 0., 0., 0., 0., 0., 0., 0., 0., 0., 0., 0.]],\n",
              "      dtype=float32)"
            ]
          },
          "execution_count": 21,
          "metadata": {},
          "output_type": "execute_result"
        }
      ],
      "source": [
        "predictions[:15]"
      ]
    },
    {
      "cell_type": "code",
      "execution_count": null,
      "metadata": {
        "id": "8kEOiM1wLU5w"
      },
      "outputs": [],
      "source": [
        ""
      ]
    },
    {
      "cell_type": "code",
      "execution_count": null,
      "metadata": {
        "colab": {
          "base_uri": "https://localhost:8080/"
        },
        "id": "Lly3JZ6gLU5w",
        "outputId": "20710d47-2701-4e17-f04e-5ffe547dc889"
      },
      "outputs": [
        {
          "name": "stdout",
          "output_type": "stream",
          "text": [
            "Saved model to disk\n"
          ]
        }
      ],
      "source": [
        "# serialize model to JSON\n",
        "model_json = model.to_json()\n",
        "with open(\"model.json\", \"w\") as json_file:\n",
        "    json_file.write(model_json)\n",
        "# serialize weights to HDF5\n",
        "model.save_weights(\"model.h5\")\n",
        "print(\"Saved model to disk\")"
      ]
    },
    {
      "cell_type": "code",
      "execution_count": null,
      "metadata": {
        "colab": {
          "base_uri": "https://localhost:8080/"
        },
        "id": "VIY8CFzDLU5w",
        "outputId": "13dc7d31-517c-470c-e928-fc5e0ed0a539"
      },
      "outputs": [
        {
          "name": "stdout",
          "output_type": "stream",
          "text": [
            "Loaded model from disk\n"
          ]
        }
      ],
      "source": [
        "from keras.models import model_from_json\n",
        "# load json and create model\n",
        "json_file = open('model.json', 'r')\n",
        "loaded_model_json = json_file.read()\n",
        "json_file.close()\n",
        "loaded_model = model_from_json(loaded_model_json)\n",
        "# load weights into new model\n",
        "loaded_model.load_weights(\"model.h5\")\n",
        "print(\"Loaded model from disk\")"
      ]
    },
    {
      "cell_type": "code",
      "execution_count": null,
      "metadata": {
        "colab": {
          "base_uri": "https://localhost:8080/"
        },
        "id": "EP3BhfUGLU5w",
        "outputId": "1eaf7f91-157b-42de-979f-f002fbf284a2"
      },
      "outputs": [
        {
          "name": "stdout",
          "output_type": "stream",
          "text": [
            "Model: \"BERT_MultiLabel\"\n",
            "_________________________________________________________________\n",
            " Layer (type)                Output Shape              Param #   \n",
            "=================================================================\n",
            " input_ids (InputLayer)      [(None, 39)]              0         \n",
            "                                                                 \n",
            " bert (TFBertMainLayer)      TFBaseModelOutputWithPoo  184345344 \n",
            "                             lingAndCrossAttentions(l            \n",
            "                             ast_hidden_state=(None,             \n",
            "                             39, 768),                           \n",
            "                              pooler_output=(None, 76            \n",
            "                             8),                                 \n",
            "                              past_key_values=None, h            \n",
            "                             idden_states=None, atten            \n",
            "                             tions=None, cross_attent            \n",
            "                             ions=None)                          \n",
            "                                                                 \n",
            " pooled_output (Dropout)     (None, 768)               0         \n",
            "                                                                 \n",
            " dense (Dense)               (None, 128)               98432     \n",
            "                                                                 \n",
            " output_bert (Dense)         (None, 32)                4128      \n",
            "                                                                 \n",
            "=================================================================\n",
            "Total params: 184,447,904\n",
            "Trainable params: 184,447,904\n",
            "Non-trainable params: 0\n",
            "_________________________________________________________________\n"
          ]
        }
      ],
      "source": [
        "loaded_model.summary()"
      ]
    },
    {
      "cell_type": "code",
      "execution_count": null,
      "metadata": {
        "colab": {
          "base_uri": "https://localhost:8080/"
        },
        "id": "jZIYkjMeLU5x",
        "outputId": "7268e77d-6842-4c80-c937-18f561529299"
      },
      "outputs": [
        {
          "name": "stdout",
          "output_type": "stream",
          "text": [
            "WARNING:tensorflow:Compiled the loaded model, but the compiled metrics have yet to be built. `model.compile_metrics` will be empty until you train or evaluate the model.\n"
          ]
        },
        {
          "name": "stderr",
          "output_type": "stream",
          "text": [
            "WARNING:tensorflow:Compiled the loaded model, but the compiled metrics have yet to be built. `model.compile_metrics` will be empty until you train or evaluate the model.\n",
            "WARNING:absl:Found untraced functions such as embeddings_layer_call_fn, embeddings_layer_call_and_return_conditional_losses, encoder_layer_call_fn, encoder_layer_call_and_return_conditional_losses, pooler_layer_call_fn while saving (showing 5 of 420). These functions will not be directly callable after loading.\n"
          ]
        },
        {
          "name": "stdout",
          "output_type": "stream",
          "text": [
            "INFO:tensorflow:Assets written to: fine_tuned_bert/assets\n"
          ]
        },
        {
          "name": "stderr",
          "output_type": "stream",
          "text": [
            "INFO:tensorflow:Assets written to: fine_tuned_bert/assets\n"
          ]
        }
      ],
      "source": [
        "loaded_model.save(f\"fine_tuned_bert\")"
      ]
    },
    {
      "cell_type": "code",
      "execution_count": null,
      "metadata": {
        "id": "Dvzj5wuULU5x"
      },
      "outputs": [],
      "source": [
        "#import shutil\n",
        "#shutil.make_archive('BERT_MODEL', 'zip', './')"
      ]
    }
  ],
  "metadata": {
    "accelerator": "GPU",
    "colab": {
      "collapsed_sections": [],
      "machine_shape": "hm",
      "name": "multilabel.ipynb",
      "provenance": []
    },
    "kernelspec": {
      "display_name": "Python 3",
      "language": "python",
      "name": "python3"
    },
    "language_info": {
      "codemirror_mode": {
        "name": "ipython",
        "version": 3
      },
      "file_extension": ".py",
      "mimetype": "text/x-python",
      "name": "python",
      "nbconvert_exporter": "python",
      "pygments_lexer": "ipython3",
      "version": "3.7.12"
    },
    "widgets": {
      "application/vnd.jupyter.widget-state+json": {
        "05a85bbcb99d49a5a2517fb4ca8d8d49": {
          "model_module": "@jupyter-widgets/controls",
          "model_module_version": "1.5.0",
          "model_name": "DescriptionStyleModel",
          "state": {
            "_model_module": "@jupyter-widgets/controls",
            "_model_module_version": "1.5.0",
            "_model_name": "DescriptionStyleModel",
            "_view_count": null,
            "_view_module": "@jupyter-widgets/base",
            "_view_module_version": "1.2.0",
            "_view_name": "StyleView",
            "description_width": ""
          }
        },
        "064948a89b0c478291e030cc84d44256": {
          "model_module": "@jupyter-widgets/base",
          "model_module_version": "1.2.0",
          "model_name": "LayoutModel",
          "state": {
            "_model_module": "@jupyter-widgets/base",
            "_model_module_version": "1.2.0",
            "_model_name": "LayoutModel",
            "_view_count": null,
            "_view_module": "@jupyter-widgets/base",
            "_view_module_version": "1.2.0",
            "_view_name": "LayoutView",
            "align_content": null,
            "align_items": null,
            "align_self": null,
            "border": null,
            "bottom": null,
            "display": null,
            "flex": null,
            "flex_flow": null,
            "grid_area": null,
            "grid_auto_columns": null,
            "grid_auto_flow": null,
            "grid_auto_rows": null,
            "grid_column": null,
            "grid_gap": null,
            "grid_row": null,
            "grid_template_areas": null,
            "grid_template_columns": null,
            "grid_template_rows": null,
            "height": null,
            "justify_content": null,
            "justify_items": null,
            "left": null,
            "margin": null,
            "max_height": null,
            "max_width": null,
            "min_height": null,
            "min_width": null,
            "object_fit": null,
            "object_position": null,
            "order": null,
            "overflow": null,
            "overflow_x": null,
            "overflow_y": null,
            "padding": null,
            "right": null,
            "top": null,
            "visibility": null,
            "width": null
          }
        },
        "082edcaad4fe4887989e666f6eb7a11b": {
          "model_module": "@jupyter-widgets/controls",
          "model_module_version": "1.5.0",
          "model_name": "ProgressStyleModel",
          "state": {
            "_model_module": "@jupyter-widgets/controls",
            "_model_module_version": "1.5.0",
            "_model_name": "ProgressStyleModel",
            "_view_count": null,
            "_view_module": "@jupyter-widgets/base",
            "_view_module_version": "1.2.0",
            "_view_name": "StyleView",
            "bar_color": null,
            "description_width": ""
          }
        },
        "0fd4d353a5e84062a4e63eb74e2df2b5": {
          "model_module": "@jupyter-widgets/controls",
          "model_module_version": "1.5.0",
          "model_name": "DescriptionStyleModel",
          "state": {
            "_model_module": "@jupyter-widgets/controls",
            "_model_module_version": "1.5.0",
            "_model_name": "DescriptionStyleModel",
            "_view_count": null,
            "_view_module": "@jupyter-widgets/base",
            "_view_module_version": "1.2.0",
            "_view_name": "StyleView",
            "description_width": ""
          }
        },
        "0fde9c77169047bcb9ced5d5197bca87": {
          "model_module": "@jupyter-widgets/controls",
          "model_module_version": "1.5.0",
          "model_name": "ProgressStyleModel",
          "state": {
            "_model_module": "@jupyter-widgets/controls",
            "_model_module_version": "1.5.0",
            "_model_name": "ProgressStyleModel",
            "_view_count": null,
            "_view_module": "@jupyter-widgets/base",
            "_view_module_version": "1.2.0",
            "_view_name": "StyleView",
            "bar_color": null,
            "description_width": ""
          }
        },
        "18677d0d4b844e3297ea2e52c64f1d2d": {
          "model_module": "@jupyter-widgets/base",
          "model_module_version": "1.2.0",
          "model_name": "LayoutModel",
          "state": {
            "_model_module": "@jupyter-widgets/base",
            "_model_module_version": "1.2.0",
            "_model_name": "LayoutModel",
            "_view_count": null,
            "_view_module": "@jupyter-widgets/base",
            "_view_module_version": "1.2.0",
            "_view_name": "LayoutView",
            "align_content": null,
            "align_items": null,
            "align_self": null,
            "border": null,
            "bottom": null,
            "display": null,
            "flex": null,
            "flex_flow": null,
            "grid_area": null,
            "grid_auto_columns": null,
            "grid_auto_flow": null,
            "grid_auto_rows": null,
            "grid_column": null,
            "grid_gap": null,
            "grid_row": null,
            "grid_template_areas": null,
            "grid_template_columns": null,
            "grid_template_rows": null,
            "height": null,
            "justify_content": null,
            "justify_items": null,
            "left": null,
            "margin": null,
            "max_height": null,
            "max_width": null,
            "min_height": null,
            "min_width": null,
            "object_fit": null,
            "object_position": null,
            "order": null,
            "overflow": null,
            "overflow_x": null,
            "overflow_y": null,
            "padding": null,
            "right": null,
            "top": null,
            "visibility": null,
            "width": null
          }
        },
        "21cf97febfd94457a30e30e5178c060c": {
          "model_module": "@jupyter-widgets/controls",
          "model_module_version": "1.5.0",
          "model_name": "HTMLModel",
          "state": {
            "_dom_classes": [],
            "_model_module": "@jupyter-widgets/controls",
            "_model_module_version": "1.5.0",
            "_model_name": "HTMLModel",
            "_view_count": null,
            "_view_module": "@jupyter-widgets/controls",
            "_view_module_version": "1.5.0",
            "_view_name": "HTMLView",
            "description": "",
            "description_tooltip": null,
            "layout": "IPY_MODEL_69d4c989c0ba4d708f200fa6b60c702a",
            "placeholder": "​",
            "style": "IPY_MODEL_2454fa4d24a045be9194bd81c519b64f",
            "value": " 1.06G/1.06G [00:25&lt;00:00, 42.9MB/s]"
          }
        },
        "2454fa4d24a045be9194bd81c519b64f": {
          "model_module": "@jupyter-widgets/controls",
          "model_module_version": "1.5.0",
          "model_name": "DescriptionStyleModel",
          "state": {
            "_model_module": "@jupyter-widgets/controls",
            "_model_module_version": "1.5.0",
            "_model_name": "DescriptionStyleModel",
            "_view_count": null,
            "_view_module": "@jupyter-widgets/base",
            "_view_module_version": "1.2.0",
            "_view_name": "StyleView",
            "description_width": ""
          }
        },
        "2558e0506ba24b35996eb52ccd799da1": {
          "model_module": "@jupyter-widgets/controls",
          "model_module_version": "1.5.0",
          "model_name": "HTMLModel",
          "state": {
            "_dom_classes": [],
            "_model_module": "@jupyter-widgets/controls",
            "_model_module_version": "1.5.0",
            "_model_name": "HTMLModel",
            "_view_count": null,
            "_view_module": "@jupyter-widgets/controls",
            "_view_module_version": "1.5.0",
            "_view_name": "HTMLView",
            "description": "",
            "description_tooltip": null,
            "layout": "IPY_MODEL_89b5c12ee00f40ab81f89d6c22b420ab",
            "placeholder": "​",
            "style": "IPY_MODEL_c3a9d87c22214add974e20b1f71f02ef",
            "value": "Downloading: 100%"
          }
        },
        "25d5df5eb13544a48070a99ddf7b7864": {
          "model_module": "@jupyter-widgets/controls",
          "model_module_version": "1.5.0",
          "model_name": "HTMLModel",
          "state": {
            "_dom_classes": [],
            "_model_module": "@jupyter-widgets/controls",
            "_model_module_version": "1.5.0",
            "_model_name": "HTMLModel",
            "_view_count": null,
            "_view_module": "@jupyter-widgets/controls",
            "_view_module_version": "1.5.0",
            "_view_name": "HTMLView",
            "description": "",
            "description_tooltip": null,
            "layout": "IPY_MODEL_da81326c16b347f989b599332ece1b03",
            "placeholder": "​",
            "style": "IPY_MODEL_ccfcf83244254d2bb436790ba1c197cf",
            "value": "Downloading: 100%"
          }
        },
        "26d61414a61d478fb91787d63e8cf300": {
          "model_module": "@jupyter-widgets/controls",
          "model_module_version": "1.5.0",
          "model_name": "ProgressStyleModel",
          "state": {
            "_model_module": "@jupyter-widgets/controls",
            "_model_module_version": "1.5.0",
            "_model_name": "ProgressStyleModel",
            "_view_count": null,
            "_view_module": "@jupyter-widgets/base",
            "_view_module_version": "1.2.0",
            "_view_name": "StyleView",
            "bar_color": null,
            "description_width": ""
          }
        },
        "4a34ae9f7e174bea9ae964300b2e2b6c": {
          "model_module": "@jupyter-widgets/controls",
          "model_module_version": "1.5.0",
          "model_name": "HTMLModel",
          "state": {
            "_dom_classes": [],
            "_model_module": "@jupyter-widgets/controls",
            "_model_module_version": "1.5.0",
            "_model_name": "HTMLModel",
            "_view_count": null,
            "_view_module": "@jupyter-widgets/controls",
            "_view_module_version": "1.5.0",
            "_view_name": "HTMLView",
            "description": "",
            "description_tooltip": null,
            "layout": "IPY_MODEL_bc86192f543a4dd18e18ee20a59b75e1",
            "placeholder": "​",
            "style": "IPY_MODEL_a2147e75de434069860347724ad9570d",
            "value": "Downloading: 100%"
          }
        },
        "4c2697199a1e435881467d74b8540374": {
          "model_module": "@jupyter-widgets/controls",
          "model_module_version": "1.5.0",
          "model_name": "FloatProgressModel",
          "state": {
            "_dom_classes": [],
            "_model_module": "@jupyter-widgets/controls",
            "_model_module_version": "1.5.0",
            "_model_name": "FloatProgressModel",
            "_view_count": null,
            "_view_module": "@jupyter-widgets/controls",
            "_view_module_version": "1.5.0",
            "_view_name": "ProgressView",
            "bar_style": "success",
            "description": "",
            "description_tooltip": null,
            "layout": "IPY_MODEL_6322d6ad7c434579925370841557d744",
            "max": 1176296,
            "min": 0,
            "orientation": "horizontal",
            "style": "IPY_MODEL_082edcaad4fe4887989e666f6eb7a11b",
            "value": 1176296
          }
        },
        "4e911bc98aa74624a94be6e8dd681757": {
          "model_module": "@jupyter-widgets/controls",
          "model_module_version": "1.5.0",
          "model_name": "FloatProgressModel",
          "state": {
            "_dom_classes": [],
            "_model_module": "@jupyter-widgets/controls",
            "_model_module_version": "1.5.0",
            "_model_name": "FloatProgressModel",
            "_view_count": null,
            "_view_module": "@jupyter-widgets/controls",
            "_view_module_version": "1.5.0",
            "_view_name": "ProgressView",
            "bar_style": "success",
            "description": "",
            "description_tooltip": null,
            "layout": "IPY_MODEL_84d4ae0fa3d245678ca8dbe1230c1be2",
            "max": 60,
            "min": 0,
            "orientation": "horizontal",
            "style": "IPY_MODEL_5bfc044bde1d47729810a3a6f505cdf5",
            "value": 60
          }
        },
        "4e98b35d2e4a400cb64768ca1572af8a": {
          "model_module": "@jupyter-widgets/controls",
          "model_module_version": "1.5.0",
          "model_name": "HTMLModel",
          "state": {
            "_dom_classes": [],
            "_model_module": "@jupyter-widgets/controls",
            "_model_module_version": "1.5.0",
            "_model_name": "HTMLModel",
            "_view_count": null,
            "_view_module": "@jupyter-widgets/controls",
            "_view_module_version": "1.5.0",
            "_view_name": "HTMLView",
            "description": "",
            "description_tooltip": null,
            "layout": "IPY_MODEL_fb8e4f100c294105abb2aaa4430805ed",
            "placeholder": "​",
            "style": "IPY_MODEL_cf203274c78b438bbc80c8e93fa90ff9",
            "value": "Downloading: 100%"
          }
        },
        "55accdde496c4e009968893d029b7232": {
          "model_module": "@jupyter-widgets/controls",
          "model_module_version": "1.5.0",
          "model_name": "HBoxModel",
          "state": {
            "_dom_classes": [],
            "_model_module": "@jupyter-widgets/controls",
            "_model_module_version": "1.5.0",
            "_model_name": "HBoxModel",
            "_view_count": null,
            "_view_module": "@jupyter-widgets/controls",
            "_view_module_version": "1.5.0",
            "_view_name": "HBoxView",
            "box_style": "",
            "children": [
              "IPY_MODEL_2558e0506ba24b35996eb52ccd799da1",
              "IPY_MODEL_e5e4b1635f404835be7c25d99a556444",
              "IPY_MODEL_bd004aaf678842c3beb868a5d23cc274"
            ],
            "layout": "IPY_MODEL_f178977698c146cb868e9b495b7ca3e7"
          }
        },
        "578b58ca12af4f01bbd88a678246abbd": {
          "model_module": "@jupyter-widgets/base",
          "model_module_version": "1.2.0",
          "model_name": "LayoutModel",
          "state": {
            "_model_module": "@jupyter-widgets/base",
            "_model_module_version": "1.2.0",
            "_model_name": "LayoutModel",
            "_view_count": null,
            "_view_module": "@jupyter-widgets/base",
            "_view_module_version": "1.2.0",
            "_view_name": "LayoutView",
            "align_content": null,
            "align_items": null,
            "align_self": null,
            "border": null,
            "bottom": null,
            "display": null,
            "flex": null,
            "flex_flow": null,
            "grid_area": null,
            "grid_auto_columns": null,
            "grid_auto_flow": null,
            "grid_auto_rows": null,
            "grid_column": null,
            "grid_gap": null,
            "grid_row": null,
            "grid_template_areas": null,
            "grid_template_columns": null,
            "grid_template_rows": null,
            "height": null,
            "justify_content": null,
            "justify_items": null,
            "left": null,
            "margin": null,
            "max_height": null,
            "max_width": null,
            "min_height": null,
            "min_width": null,
            "object_fit": null,
            "object_position": null,
            "order": null,
            "overflow": null,
            "overflow_x": null,
            "overflow_y": null,
            "padding": null,
            "right": null,
            "top": null,
            "visibility": null,
            "width": null
          }
        },
        "5bfc044bde1d47729810a3a6f505cdf5": {
          "model_module": "@jupyter-widgets/controls",
          "model_module_version": "1.5.0",
          "model_name": "ProgressStyleModel",
          "state": {
            "_model_module": "@jupyter-widgets/controls",
            "_model_module_version": "1.5.0",
            "_model_name": "ProgressStyleModel",
            "_view_count": null,
            "_view_module": "@jupyter-widgets/base",
            "_view_module_version": "1.2.0",
            "_view_name": "StyleView",
            "bar_color": null,
            "description_width": ""
          }
        },
        "5c859e4477124273a32fe6006faa062a": {
          "model_module": "@jupyter-widgets/controls",
          "model_module_version": "1.5.0",
          "model_name": "DescriptionStyleModel",
          "state": {
            "_model_module": "@jupyter-widgets/controls",
            "_model_module_version": "1.5.0",
            "_model_name": "DescriptionStyleModel",
            "_view_count": null,
            "_view_module": "@jupyter-widgets/base",
            "_view_module_version": "1.2.0",
            "_view_name": "StyleView",
            "description_width": ""
          }
        },
        "5fc633e9223d49f0ae58ea2e64c2044c": {
          "model_module": "@jupyter-widgets/controls",
          "model_module_version": "1.5.0",
          "model_name": "FloatProgressModel",
          "state": {
            "_dom_classes": [],
            "_model_module": "@jupyter-widgets/controls",
            "_model_module_version": "1.5.0",
            "_model_name": "FloatProgressModel",
            "_view_count": null,
            "_view_module": "@jupyter-widgets/controls",
            "_view_module_version": "1.5.0",
            "_view_name": "ProgressView",
            "bar_style": "success",
            "description": "",
            "description_tooltip": null,
            "layout": "IPY_MODEL_a3d6534d513e405ca071ca1e65682cd2",
            "max": 1135358592,
            "min": 0,
            "orientation": "horizontal",
            "style": "IPY_MODEL_26d61414a61d478fb91787d63e8cf300",
            "value": 1135358592
          }
        },
        "6322d6ad7c434579925370841557d744": {
          "model_module": "@jupyter-widgets/base",
          "model_module_version": "1.2.0",
          "model_name": "LayoutModel",
          "state": {
            "_model_module": "@jupyter-widgets/base",
            "_model_module_version": "1.2.0",
            "_model_name": "LayoutModel",
            "_view_count": null,
            "_view_module": "@jupyter-widgets/base",
            "_view_module_version": "1.2.0",
            "_view_name": "LayoutView",
            "align_content": null,
            "align_items": null,
            "align_self": null,
            "border": null,
            "bottom": null,
            "display": null,
            "flex": null,
            "flex_flow": null,
            "grid_area": null,
            "grid_auto_columns": null,
            "grid_auto_flow": null,
            "grid_auto_rows": null,
            "grid_column": null,
            "grid_gap": null,
            "grid_row": null,
            "grid_template_areas": null,
            "grid_template_columns": null,
            "grid_template_rows": null,
            "height": null,
            "justify_content": null,
            "justify_items": null,
            "left": null,
            "margin": null,
            "max_height": null,
            "max_width": null,
            "min_height": null,
            "min_width": null,
            "object_fit": null,
            "object_position": null,
            "order": null,
            "overflow": null,
            "overflow_x": null,
            "overflow_y": null,
            "padding": null,
            "right": null,
            "top": null,
            "visibility": null,
            "width": null
          }
        },
        "69d4c989c0ba4d708f200fa6b60c702a": {
          "model_module": "@jupyter-widgets/base",
          "model_module_version": "1.2.0",
          "model_name": "LayoutModel",
          "state": {
            "_model_module": "@jupyter-widgets/base",
            "_model_module_version": "1.2.0",
            "_model_name": "LayoutModel",
            "_view_count": null,
            "_view_module": "@jupyter-widgets/base",
            "_view_module_version": "1.2.0",
            "_view_name": "LayoutView",
            "align_content": null,
            "align_items": null,
            "align_self": null,
            "border": null,
            "bottom": null,
            "display": null,
            "flex": null,
            "flex_flow": null,
            "grid_area": null,
            "grid_auto_columns": null,
            "grid_auto_flow": null,
            "grid_auto_rows": null,
            "grid_column": null,
            "grid_gap": null,
            "grid_row": null,
            "grid_template_areas": null,
            "grid_template_columns": null,
            "grid_template_rows": null,
            "height": null,
            "justify_content": null,
            "justify_items": null,
            "left": null,
            "margin": null,
            "max_height": null,
            "max_width": null,
            "min_height": null,
            "min_width": null,
            "object_fit": null,
            "object_position": null,
            "order": null,
            "overflow": null,
            "overflow_x": null,
            "overflow_y": null,
            "padding": null,
            "right": null,
            "top": null,
            "visibility": null,
            "width": null
          }
        },
        "708a80c4792344fd890e3ffd3390e469": {
          "model_module": "@jupyter-widgets/controls",
          "model_module_version": "1.5.0",
          "model_name": "HBoxModel",
          "state": {
            "_dom_classes": [],
            "_model_module": "@jupyter-widgets/controls",
            "_model_module_version": "1.5.0",
            "_model_name": "HBoxModel",
            "_view_count": null,
            "_view_module": "@jupyter-widgets/controls",
            "_view_module_version": "1.5.0",
            "_view_name": "HBoxView",
            "box_style": "",
            "children": [
              "IPY_MODEL_25d5df5eb13544a48070a99ddf7b7864",
              "IPY_MODEL_4e911bc98aa74624a94be6e8dd681757",
              "IPY_MODEL_ee3271bef7cc4f528c291217c47cd900"
            ],
            "layout": "IPY_MODEL_18677d0d4b844e3297ea2e52c64f1d2d"
          }
        },
        "7eb1d76273ef4057bbe3ee27cc3e789f": {
          "model_module": "@jupyter-widgets/base",
          "model_module_version": "1.2.0",
          "model_name": "LayoutModel",
          "state": {
            "_model_module": "@jupyter-widgets/base",
            "_model_module_version": "1.2.0",
            "_model_name": "LayoutModel",
            "_view_count": null,
            "_view_module": "@jupyter-widgets/base",
            "_view_module_version": "1.2.0",
            "_view_name": "LayoutView",
            "align_content": null,
            "align_items": null,
            "align_self": null,
            "border": null,
            "bottom": null,
            "display": null,
            "flex": null,
            "flex_flow": null,
            "grid_area": null,
            "grid_auto_columns": null,
            "grid_auto_flow": null,
            "grid_auto_rows": null,
            "grid_column": null,
            "grid_gap": null,
            "grid_row": null,
            "grid_template_areas": null,
            "grid_template_columns": null,
            "grid_template_rows": null,
            "height": null,
            "justify_content": null,
            "justify_items": null,
            "left": null,
            "margin": null,
            "max_height": null,
            "max_width": null,
            "min_height": null,
            "min_width": null,
            "object_fit": null,
            "object_position": null,
            "order": null,
            "overflow": null,
            "overflow_x": null,
            "overflow_y": null,
            "padding": null,
            "right": null,
            "top": null,
            "visibility": null,
            "width": null
          }
        },
        "84d4ae0fa3d245678ca8dbe1230c1be2": {
          "model_module": "@jupyter-widgets/base",
          "model_module_version": "1.2.0",
          "model_name": "LayoutModel",
          "state": {
            "_model_module": "@jupyter-widgets/base",
            "_model_module_version": "1.2.0",
            "_model_name": "LayoutModel",
            "_view_count": null,
            "_view_module": "@jupyter-widgets/base",
            "_view_module_version": "1.2.0",
            "_view_name": "LayoutView",
            "align_content": null,
            "align_items": null,
            "align_self": null,
            "border": null,
            "bottom": null,
            "display": null,
            "flex": null,
            "flex_flow": null,
            "grid_area": null,
            "grid_auto_columns": null,
            "grid_auto_flow": null,
            "grid_auto_rows": null,
            "grid_column": null,
            "grid_gap": null,
            "grid_row": null,
            "grid_template_areas": null,
            "grid_template_columns": null,
            "grid_template_rows": null,
            "height": null,
            "justify_content": null,
            "justify_items": null,
            "left": null,
            "margin": null,
            "max_height": null,
            "max_width": null,
            "min_height": null,
            "min_width": null,
            "object_fit": null,
            "object_position": null,
            "order": null,
            "overflow": null,
            "overflow_x": null,
            "overflow_y": null,
            "padding": null,
            "right": null,
            "top": null,
            "visibility": null,
            "width": null
          }
        },
        "89b5c12ee00f40ab81f89d6c22b420ab": {
          "model_module": "@jupyter-widgets/base",
          "model_module_version": "1.2.0",
          "model_name": "LayoutModel",
          "state": {
            "_model_module": "@jupyter-widgets/base",
            "_model_module_version": "1.2.0",
            "_model_name": "LayoutModel",
            "_view_count": null,
            "_view_module": "@jupyter-widgets/base",
            "_view_module_version": "1.2.0",
            "_view_name": "LayoutView",
            "align_content": null,
            "align_items": null,
            "align_self": null,
            "border": null,
            "bottom": null,
            "display": null,
            "flex": null,
            "flex_flow": null,
            "grid_area": null,
            "grid_auto_columns": null,
            "grid_auto_flow": null,
            "grid_auto_rows": null,
            "grid_column": null,
            "grid_gap": null,
            "grid_row": null,
            "grid_template_areas": null,
            "grid_template_columns": null,
            "grid_template_rows": null,
            "height": null,
            "justify_content": null,
            "justify_items": null,
            "left": null,
            "margin": null,
            "max_height": null,
            "max_width": null,
            "min_height": null,
            "min_width": null,
            "object_fit": null,
            "object_position": null,
            "order": null,
            "overflow": null,
            "overflow_x": null,
            "overflow_y": null,
            "padding": null,
            "right": null,
            "top": null,
            "visibility": null,
            "width": null
          }
        },
        "9e05f8f208b6448a95886a180903eda1": {
          "model_module": "@jupyter-widgets/controls",
          "model_module_version": "1.5.0",
          "model_name": "HBoxModel",
          "state": {
            "_dom_classes": [],
            "_model_module": "@jupyter-widgets/controls",
            "_model_module_version": "1.5.0",
            "_model_name": "HBoxModel",
            "_view_count": null,
            "_view_module": "@jupyter-widgets/controls",
            "_view_module_version": "1.5.0",
            "_view_name": "HBoxView",
            "box_style": "",
            "children": [
              "IPY_MODEL_4e98b35d2e4a400cb64768ca1572af8a",
              "IPY_MODEL_5fc633e9223d49f0ae58ea2e64c2044c",
              "IPY_MODEL_21cf97febfd94457a30e30e5178c060c"
            ],
            "layout": "IPY_MODEL_7eb1d76273ef4057bbe3ee27cc3e789f"
          }
        },
        "a2147e75de434069860347724ad9570d": {
          "model_module": "@jupyter-widgets/controls",
          "model_module_version": "1.5.0",
          "model_name": "DescriptionStyleModel",
          "state": {
            "_model_module": "@jupyter-widgets/controls",
            "_model_module_version": "1.5.0",
            "_model_name": "DescriptionStyleModel",
            "_view_count": null,
            "_view_module": "@jupyter-widgets/base",
            "_view_module_version": "1.2.0",
            "_view_name": "StyleView",
            "description_width": ""
          }
        },
        "a2521759a3e7400fb5db2de2f1061d50": {
          "model_module": "@jupyter-widgets/base",
          "model_module_version": "1.2.0",
          "model_name": "LayoutModel",
          "state": {
            "_model_module": "@jupyter-widgets/base",
            "_model_module_version": "1.2.0",
            "_model_name": "LayoutModel",
            "_view_count": null,
            "_view_module": "@jupyter-widgets/base",
            "_view_module_version": "1.2.0",
            "_view_name": "LayoutView",
            "align_content": null,
            "align_items": null,
            "align_self": null,
            "border": null,
            "bottom": null,
            "display": null,
            "flex": null,
            "flex_flow": null,
            "grid_area": null,
            "grid_auto_columns": null,
            "grid_auto_flow": null,
            "grid_auto_rows": null,
            "grid_column": null,
            "grid_gap": null,
            "grid_row": null,
            "grid_template_areas": null,
            "grid_template_columns": null,
            "grid_template_rows": null,
            "height": null,
            "justify_content": null,
            "justify_items": null,
            "left": null,
            "margin": null,
            "max_height": null,
            "max_width": null,
            "min_height": null,
            "min_width": null,
            "object_fit": null,
            "object_position": null,
            "order": null,
            "overflow": null,
            "overflow_x": null,
            "overflow_y": null,
            "padding": null,
            "right": null,
            "top": null,
            "visibility": null,
            "width": null
          }
        },
        "a3d6534d513e405ca071ca1e65682cd2": {
          "model_module": "@jupyter-widgets/base",
          "model_module_version": "1.2.0",
          "model_name": "LayoutModel",
          "state": {
            "_model_module": "@jupyter-widgets/base",
            "_model_module_version": "1.2.0",
            "_model_name": "LayoutModel",
            "_view_count": null,
            "_view_module": "@jupyter-widgets/base",
            "_view_module_version": "1.2.0",
            "_view_name": "LayoutView",
            "align_content": null,
            "align_items": null,
            "align_self": null,
            "border": null,
            "bottom": null,
            "display": null,
            "flex": null,
            "flex_flow": null,
            "grid_area": null,
            "grid_auto_columns": null,
            "grid_auto_flow": null,
            "grid_auto_rows": null,
            "grid_column": null,
            "grid_gap": null,
            "grid_row": null,
            "grid_template_areas": null,
            "grid_template_columns": null,
            "grid_template_rows": null,
            "height": null,
            "justify_content": null,
            "justify_items": null,
            "left": null,
            "margin": null,
            "max_height": null,
            "max_width": null,
            "min_height": null,
            "min_width": null,
            "object_fit": null,
            "object_position": null,
            "order": null,
            "overflow": null,
            "overflow_x": null,
            "overflow_y": null,
            "padding": null,
            "right": null,
            "top": null,
            "visibility": null,
            "width": null
          }
        },
        "b28de4f234184b119b23180b2663da75": {
          "model_module": "@jupyter-widgets/base",
          "model_module_version": "1.2.0",
          "model_name": "LayoutModel",
          "state": {
            "_model_module": "@jupyter-widgets/base",
            "_model_module_version": "1.2.0",
            "_model_name": "LayoutModel",
            "_view_count": null,
            "_view_module": "@jupyter-widgets/base",
            "_view_module_version": "1.2.0",
            "_view_name": "LayoutView",
            "align_content": null,
            "align_items": null,
            "align_self": null,
            "border": null,
            "bottom": null,
            "display": null,
            "flex": null,
            "flex_flow": null,
            "grid_area": null,
            "grid_auto_columns": null,
            "grid_auto_flow": null,
            "grid_auto_rows": null,
            "grid_column": null,
            "grid_gap": null,
            "grid_row": null,
            "grid_template_areas": null,
            "grid_template_columns": null,
            "grid_template_rows": null,
            "height": null,
            "justify_content": null,
            "justify_items": null,
            "left": null,
            "margin": null,
            "max_height": null,
            "max_width": null,
            "min_height": null,
            "min_width": null,
            "object_fit": null,
            "object_position": null,
            "order": null,
            "overflow": null,
            "overflow_x": null,
            "overflow_y": null,
            "padding": null,
            "right": null,
            "top": null,
            "visibility": null,
            "width": null
          }
        },
        "b6c10bcf246847d1973d126834120189": {
          "model_module": "@jupyter-widgets/base",
          "model_module_version": "1.2.0",
          "model_name": "LayoutModel",
          "state": {
            "_model_module": "@jupyter-widgets/base",
            "_model_module_version": "1.2.0",
            "_model_name": "LayoutModel",
            "_view_count": null,
            "_view_module": "@jupyter-widgets/base",
            "_view_module_version": "1.2.0",
            "_view_name": "LayoutView",
            "align_content": null,
            "align_items": null,
            "align_self": null,
            "border": null,
            "bottom": null,
            "display": null,
            "flex": null,
            "flex_flow": null,
            "grid_area": null,
            "grid_auto_columns": null,
            "grid_auto_flow": null,
            "grid_auto_rows": null,
            "grid_column": null,
            "grid_gap": null,
            "grid_row": null,
            "grid_template_areas": null,
            "grid_template_columns": null,
            "grid_template_rows": null,
            "height": null,
            "justify_content": null,
            "justify_items": null,
            "left": null,
            "margin": null,
            "max_height": null,
            "max_width": null,
            "min_height": null,
            "min_width": null,
            "object_fit": null,
            "object_position": null,
            "order": null,
            "overflow": null,
            "overflow_x": null,
            "overflow_y": null,
            "padding": null,
            "right": null,
            "top": null,
            "visibility": null,
            "width": null
          }
        },
        "bc86192f543a4dd18e18ee20a59b75e1": {
          "model_module": "@jupyter-widgets/base",
          "model_module_version": "1.2.0",
          "model_name": "LayoutModel",
          "state": {
            "_model_module": "@jupyter-widgets/base",
            "_model_module_version": "1.2.0",
            "_model_name": "LayoutModel",
            "_view_count": null,
            "_view_module": "@jupyter-widgets/base",
            "_view_module_version": "1.2.0",
            "_view_name": "LayoutView",
            "align_content": null,
            "align_items": null,
            "align_self": null,
            "border": null,
            "bottom": null,
            "display": null,
            "flex": null,
            "flex_flow": null,
            "grid_area": null,
            "grid_auto_columns": null,
            "grid_auto_flow": null,
            "grid_auto_rows": null,
            "grid_column": null,
            "grid_gap": null,
            "grid_row": null,
            "grid_template_areas": null,
            "grid_template_columns": null,
            "grid_template_rows": null,
            "height": null,
            "justify_content": null,
            "justify_items": null,
            "left": null,
            "margin": null,
            "max_height": null,
            "max_width": null,
            "min_height": null,
            "min_width": null,
            "object_fit": null,
            "object_position": null,
            "order": null,
            "overflow": null,
            "overflow_x": null,
            "overflow_y": null,
            "padding": null,
            "right": null,
            "top": null,
            "visibility": null,
            "width": null
          }
        },
        "bd004aaf678842c3beb868a5d23cc274": {
          "model_module": "@jupyter-widgets/controls",
          "model_module_version": "1.5.0",
          "model_name": "HTMLModel",
          "state": {
            "_dom_classes": [],
            "_model_module": "@jupyter-widgets/controls",
            "_model_module_version": "1.5.0",
            "_model_name": "HTMLModel",
            "_view_count": null,
            "_view_module": "@jupyter-widgets/controls",
            "_view_module_version": "1.5.0",
            "_view_name": "HTMLView",
            "description": "",
            "description_tooltip": null,
            "layout": "IPY_MODEL_a2521759a3e7400fb5db2de2f1061d50",
            "placeholder": "​",
            "style": "IPY_MODEL_0fd4d353a5e84062a4e63eb74e2df2b5",
            "value": " 386/386 [00:00&lt;00:00, 7.53kB/s]"
          }
        },
        "c3a9d87c22214add974e20b1f71f02ef": {
          "model_module": "@jupyter-widgets/controls",
          "model_module_version": "1.5.0",
          "model_name": "DescriptionStyleModel",
          "state": {
            "_model_module": "@jupyter-widgets/controls",
            "_model_module_version": "1.5.0",
            "_model_name": "DescriptionStyleModel",
            "_view_count": null,
            "_view_module": "@jupyter-widgets/base",
            "_view_module_version": "1.2.0",
            "_view_name": "StyleView",
            "description_width": ""
          }
        },
        "ccfcf83244254d2bb436790ba1c197cf": {
          "model_module": "@jupyter-widgets/controls",
          "model_module_version": "1.5.0",
          "model_name": "DescriptionStyleModel",
          "state": {
            "_model_module": "@jupyter-widgets/controls",
            "_model_module_version": "1.5.0",
            "_model_name": "DescriptionStyleModel",
            "_view_count": null,
            "_view_module": "@jupyter-widgets/base",
            "_view_module_version": "1.2.0",
            "_view_name": "StyleView",
            "description_width": ""
          }
        },
        "cf203274c78b438bbc80c8e93fa90ff9": {
          "model_module": "@jupyter-widgets/controls",
          "model_module_version": "1.5.0",
          "model_name": "DescriptionStyleModel",
          "state": {
            "_model_module": "@jupyter-widgets/controls",
            "_model_module_version": "1.5.0",
            "_model_name": "DescriptionStyleModel",
            "_view_count": null,
            "_view_module": "@jupyter-widgets/base",
            "_view_module_version": "1.2.0",
            "_view_name": "StyleView",
            "description_width": ""
          }
        },
        "da81326c16b347f989b599332ece1b03": {
          "model_module": "@jupyter-widgets/base",
          "model_module_version": "1.2.0",
          "model_name": "LayoutModel",
          "state": {
            "_model_module": "@jupyter-widgets/base",
            "_model_module_version": "1.2.0",
            "_model_name": "LayoutModel",
            "_view_count": null,
            "_view_module": "@jupyter-widgets/base",
            "_view_module_version": "1.2.0",
            "_view_name": "LayoutView",
            "align_content": null,
            "align_items": null,
            "align_self": null,
            "border": null,
            "bottom": null,
            "display": null,
            "flex": null,
            "flex_flow": null,
            "grid_area": null,
            "grid_auto_columns": null,
            "grid_auto_flow": null,
            "grid_auto_rows": null,
            "grid_column": null,
            "grid_gap": null,
            "grid_row": null,
            "grid_template_areas": null,
            "grid_template_columns": null,
            "grid_template_rows": null,
            "height": null,
            "justify_content": null,
            "justify_items": null,
            "left": null,
            "margin": null,
            "max_height": null,
            "max_width": null,
            "min_height": null,
            "min_width": null,
            "object_fit": null,
            "object_position": null,
            "order": null,
            "overflow": null,
            "overflow_x": null,
            "overflow_y": null,
            "padding": null,
            "right": null,
            "top": null,
            "visibility": null,
            "width": null
          }
        },
        "e5e4b1635f404835be7c25d99a556444": {
          "model_module": "@jupyter-widgets/controls",
          "model_module_version": "1.5.0",
          "model_name": "FloatProgressModel",
          "state": {
            "_dom_classes": [],
            "_model_module": "@jupyter-widgets/controls",
            "_model_module_version": "1.5.0",
            "_model_name": "FloatProgressModel",
            "_view_count": null,
            "_view_module": "@jupyter-widgets/controls",
            "_view_module_version": "1.5.0",
            "_view_name": "ProgressView",
            "bar_style": "success",
            "description": "",
            "description_tooltip": null,
            "layout": "IPY_MODEL_064948a89b0c478291e030cc84d44256",
            "max": 386,
            "min": 0,
            "orientation": "horizontal",
            "style": "IPY_MODEL_0fde9c77169047bcb9ced5d5197bca87",
            "value": 386
          }
        },
        "eb7778b5a1a14961882b9355a10cd162": {
          "model_module": "@jupyter-widgets/controls",
          "model_module_version": "1.5.0",
          "model_name": "HBoxModel",
          "state": {
            "_dom_classes": [],
            "_model_module": "@jupyter-widgets/controls",
            "_model_module_version": "1.5.0",
            "_model_name": "HBoxModel",
            "_view_count": null,
            "_view_module": "@jupyter-widgets/controls",
            "_view_module_version": "1.5.0",
            "_view_name": "HBoxView",
            "box_style": "",
            "children": [
              "IPY_MODEL_4a34ae9f7e174bea9ae964300b2e2b6c",
              "IPY_MODEL_4c2697199a1e435881467d74b8540374",
              "IPY_MODEL_ef2553ac53f946b69cb1e3429c9681fc"
            ],
            "layout": "IPY_MODEL_578b58ca12af4f01bbd88a678246abbd"
          }
        },
        "ee3271bef7cc4f528c291217c47cd900": {
          "model_module": "@jupyter-widgets/controls",
          "model_module_version": "1.5.0",
          "model_name": "HTMLModel",
          "state": {
            "_dom_classes": [],
            "_model_module": "@jupyter-widgets/controls",
            "_model_module_version": "1.5.0",
            "_model_name": "HTMLModel",
            "_view_count": null,
            "_view_module": "@jupyter-widgets/controls",
            "_view_module_version": "1.5.0",
            "_view_name": "HTMLView",
            "description": "",
            "description_tooltip": null,
            "layout": "IPY_MODEL_b6c10bcf246847d1973d126834120189",
            "placeholder": "​",
            "style": "IPY_MODEL_05a85bbcb99d49a5a2517fb4ca8d8d49",
            "value": " 60.0/60.0 [00:00&lt;00:00, 1.81kB/s]"
          }
        },
        "ef2553ac53f946b69cb1e3429c9681fc": {
          "model_module": "@jupyter-widgets/controls",
          "model_module_version": "1.5.0",
          "model_name": "HTMLModel",
          "state": {
            "_dom_classes": [],
            "_model_module": "@jupyter-widgets/controls",
            "_model_module_version": "1.5.0",
            "_model_name": "HTMLModel",
            "_view_count": null,
            "_view_module": "@jupyter-widgets/controls",
            "_view_module_version": "1.5.0",
            "_view_name": "HTMLView",
            "description": "",
            "description_tooltip": null,
            "layout": "IPY_MODEL_b28de4f234184b119b23180b2663da75",
            "placeholder": "​",
            "style": "IPY_MODEL_5c859e4477124273a32fe6006faa062a",
            "value": " 1.12M/1.12M [00:00&lt;00:00, 3.01MB/s]"
          }
        },
        "f178977698c146cb868e9b495b7ca3e7": {
          "model_module": "@jupyter-widgets/base",
          "model_module_version": "1.2.0",
          "model_name": "LayoutModel",
          "state": {
            "_model_module": "@jupyter-widgets/base",
            "_model_module_version": "1.2.0",
            "_model_name": "LayoutModel",
            "_view_count": null,
            "_view_module": "@jupyter-widgets/base",
            "_view_module_version": "1.2.0",
            "_view_name": "LayoutView",
            "align_content": null,
            "align_items": null,
            "align_self": null,
            "border": null,
            "bottom": null,
            "display": null,
            "flex": null,
            "flex_flow": null,
            "grid_area": null,
            "grid_auto_columns": null,
            "grid_auto_flow": null,
            "grid_auto_rows": null,
            "grid_column": null,
            "grid_gap": null,
            "grid_row": null,
            "grid_template_areas": null,
            "grid_template_columns": null,
            "grid_template_rows": null,
            "height": null,
            "justify_content": null,
            "justify_items": null,
            "left": null,
            "margin": null,
            "max_height": null,
            "max_width": null,
            "min_height": null,
            "min_width": null,
            "object_fit": null,
            "object_position": null,
            "order": null,
            "overflow": null,
            "overflow_x": null,
            "overflow_y": null,
            "padding": null,
            "right": null,
            "top": null,
            "visibility": null,
            "width": null
          }
        },
        "fb8e4f100c294105abb2aaa4430805ed": {
          "model_module": "@jupyter-widgets/base",
          "model_module_version": "1.2.0",
          "model_name": "LayoutModel",
          "state": {
            "_model_module": "@jupyter-widgets/base",
            "_model_module_version": "1.2.0",
            "_model_name": "LayoutModel",
            "_view_count": null,
            "_view_module": "@jupyter-widgets/base",
            "_view_module_version": "1.2.0",
            "_view_name": "LayoutView",
            "align_content": null,
            "align_items": null,
            "align_self": null,
            "border": null,
            "bottom": null,
            "display": null,
            "flex": null,
            "flex_flow": null,
            "grid_area": null,
            "grid_auto_columns": null,
            "grid_auto_flow": null,
            "grid_auto_rows": null,
            "grid_column": null,
            "grid_gap": null,
            "grid_row": null,
            "grid_template_areas": null,
            "grid_template_columns": null,
            "grid_template_rows": null,
            "height": null,
            "justify_content": null,
            "justify_items": null,
            "left": null,
            "margin": null,
            "max_height": null,
            "max_width": null,
            "min_height": null,
            "min_width": null,
            "object_fit": null,
            "object_position": null,
            "order": null,
            "overflow": null,
            "overflow_x": null,
            "overflow_y": null,
            "padding": null,
            "right": null,
            "top": null,
            "visibility": null,
            "width": null
          }
        }
      }
    }
  },
  "nbformat": 4,
  "nbformat_minor": 0
}