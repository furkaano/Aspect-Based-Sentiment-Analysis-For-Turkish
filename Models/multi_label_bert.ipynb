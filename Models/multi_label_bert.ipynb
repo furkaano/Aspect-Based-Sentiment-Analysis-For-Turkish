{
 "cells": [
  {
   "cell_type": "code",
   "execution_count": 1,
   "id": "5a5d6c4c",
   "metadata": {},
   "outputs": [],
   "source": [
    "import pandas as pd\n",
    "import numpy as np"
   ]
  },
  {
   "cell_type": "code",
   "execution_count": 2,
   "id": "7f1c5583",
   "metadata": {},
   "outputs": [],
   "source": [
    "train_df = pd.read_csv('re-designed_train_df.csv')\n",
    "info_df = pd.read_csv('re-designed_info_train_df.csv')"
   ]
  },
  {
   "cell_type": "code",
   "execution_count": 9,
   "id": "86490668",
   "metadata": {
    "scrolled": true
   },
   "outputs": [
    {
     "data": {
      "text/html": [
       "<div>\n",
       "<style scoped>\n",
       "    .dataframe tbody tr th:only-of-type {\n",
       "        vertical-align: middle;\n",
       "    }\n",
       "\n",
       "    .dataframe tbody tr th {\n",
       "        vertical-align: top;\n",
       "    }\n",
       "\n",
       "    .dataframe thead th {\n",
       "        text-align: right;\n",
       "    }\n",
       "</style>\n",
       "<table border=\"1\" class=\"dataframe\">\n",
       "  <thead>\n",
       "    <tr style=\"text-align: right;\">\n",
       "      <th></th>\n",
       "      <th>SID</th>\n",
       "      <th>lemmatized</th>\n",
       "      <th>negative - AMBIENCE#GENERAL</th>\n",
       "      <th>negative - DRINKS#PRICES</th>\n",
       "      <th>negative - DRINKS#QUALITY</th>\n",
       "      <th>negative - DRINKS#STYLE_OPTIONS</th>\n",
       "      <th>negative - FOOD#PRICES</th>\n",
       "      <th>negative - FOOD#QUALITY</th>\n",
       "      <th>negative - FOOD#STYLE_OPTIONS</th>\n",
       "      <th>negative - LOCATION#GENERAL</th>\n",
       "      <th>...</th>\n",
       "      <th>positive - DRINKS#QUALITY</th>\n",
       "      <th>positive - DRINKS#STYLE_OPTIONS</th>\n",
       "      <th>positive - FOOD#PRICES</th>\n",
       "      <th>positive - FOOD#QUALITY</th>\n",
       "      <th>positive - FOOD#STYLE_OPTIONS</th>\n",
       "      <th>positive - LOCATION#GENERAL</th>\n",
       "      <th>positive - RESTAURANT#GENERAL</th>\n",
       "      <th>positive - RESTAURANT#MISCELLANEOUS</th>\n",
       "      <th>positive - RESTAURANT#PRICES</th>\n",
       "      <th>positive - SERVICE#GENERAL</th>\n",
       "    </tr>\n",
       "  </thead>\n",
       "  <tbody>\n",
       "    <tr>\n",
       "      <th>0</th>\n",
       "      <td>1000:0</td>\n",
       "      <td>manzara sahane evet servis rezalet</td>\n",
       "      <td>0</td>\n",
       "      <td>0</td>\n",
       "      <td>0</td>\n",
       "      <td>0</td>\n",
       "      <td>0</td>\n",
       "      <td>0</td>\n",
       "      <td>0</td>\n",
       "      <td>0</td>\n",
       "      <td>...</td>\n",
       "      <td>0</td>\n",
       "      <td>0</td>\n",
       "      <td>0</td>\n",
       "      <td>0</td>\n",
       "      <td>0</td>\n",
       "      <td>0</td>\n",
       "      <td>0</td>\n",
       "      <td>0</td>\n",
       "      <td>0</td>\n",
       "      <td>0</td>\n",
       "    </tr>\n",
       "    <tr>\n",
       "      <th>1</th>\n",
       "      <td>1000:1</td>\n",
       "      <td>soguk su istemek soguk yok butun sulari disari...</td>\n",
       "      <td>0</td>\n",
       "      <td>0</td>\n",
       "      <td>0</td>\n",
       "      <td>0</td>\n",
       "      <td>0</td>\n",
       "      <td>0</td>\n",
       "      <td>1</td>\n",
       "      <td>0</td>\n",
       "      <td>...</td>\n",
       "      <td>0</td>\n",
       "      <td>0</td>\n",
       "      <td>0</td>\n",
       "      <td>0</td>\n",
       "      <td>0</td>\n",
       "      <td>0</td>\n",
       "      <td>0</td>\n",
       "      <td>0</td>\n",
       "      <td>0</td>\n",
       "      <td>0</td>\n",
       "    </tr>\n",
       "    <tr>\n",
       "      <th>2</th>\n",
       "      <td>1000:2</td>\n",
       "      <td>yemek iyi hos lezzet iyi heyecan veri bi taraf...</td>\n",
       "      <td>0</td>\n",
       "      <td>0</td>\n",
       "      <td>0</td>\n",
       "      <td>0</td>\n",
       "      <td>0</td>\n",
       "      <td>0</td>\n",
       "      <td>0</td>\n",
       "      <td>0</td>\n",
       "      <td>...</td>\n",
       "      <td>0</td>\n",
       "      <td>0</td>\n",
       "      <td>0</td>\n",
       "      <td>1</td>\n",
       "      <td>0</td>\n",
       "      <td>0</td>\n",
       "      <td>0</td>\n",
       "      <td>0</td>\n",
       "      <td>0</td>\n",
       "      <td>0</td>\n",
       "    </tr>\n",
       "    <tr>\n",
       "      <th>3</th>\n",
       "      <td>1000:3</td>\n",
       "      <td>servis fiyat cok fazla</td>\n",
       "      <td>0</td>\n",
       "      <td>0</td>\n",
       "      <td>0</td>\n",
       "      <td>0</td>\n",
       "      <td>0</td>\n",
       "      <td>0</td>\n",
       "      <td>0</td>\n",
       "      <td>0</td>\n",
       "      <td>...</td>\n",
       "      <td>0</td>\n",
       "      <td>0</td>\n",
       "      <td>0</td>\n",
       "      <td>0</td>\n",
       "      <td>0</td>\n",
       "      <td>0</td>\n",
       "      <td>0</td>\n",
       "      <td>0</td>\n",
       "      <td>0</td>\n",
       "      <td>0</td>\n",
       "    </tr>\n",
       "    <tr>\n",
       "      <th>4</th>\n",
       "      <td>1000:4</td>\n",
       "      <td>lacivert kalite dusukluguyle cok sasirtti</td>\n",
       "      <td>0</td>\n",
       "      <td>0</td>\n",
       "      <td>0</td>\n",
       "      <td>0</td>\n",
       "      <td>0</td>\n",
       "      <td>0</td>\n",
       "      <td>0</td>\n",
       "      <td>0</td>\n",
       "      <td>...</td>\n",
       "      <td>0</td>\n",
       "      <td>0</td>\n",
       "      <td>0</td>\n",
       "      <td>0</td>\n",
       "      <td>0</td>\n",
       "      <td>0</td>\n",
       "      <td>0</td>\n",
       "      <td>0</td>\n",
       "      <td>0</td>\n",
       "      <td>0</td>\n",
       "    </tr>\n",
       "  </tbody>\n",
       "</table>\n",
       "<p>5 rows × 34 columns</p>\n",
       "</div>"
      ],
      "text/plain": [
       "      SID                                         lemmatized  \\\n",
       "0  1000:0                 manzara sahane evet servis rezalet   \n",
       "1  1000:1  soguk su istemek soguk yok butun sulari disari...   \n",
       "2  1000:2  yemek iyi hos lezzet iyi heyecan veri bi taraf...   \n",
       "3  1000:3                             servis fiyat cok fazla   \n",
       "4  1000:4          lacivert kalite dusukluguyle cok sasirtti   \n",
       "\n",
       "   negative - AMBIENCE#GENERAL  negative - DRINKS#PRICES  \\\n",
       "0                            0                         0   \n",
       "1                            0                         0   \n",
       "2                            0                         0   \n",
       "3                            0                         0   \n",
       "4                            0                         0   \n",
       "\n",
       "   negative - DRINKS#QUALITY  negative - DRINKS#STYLE_OPTIONS  \\\n",
       "0                          0                                0   \n",
       "1                          0                                0   \n",
       "2                          0                                0   \n",
       "3                          0                                0   \n",
       "4                          0                                0   \n",
       "\n",
       "   negative - FOOD#PRICES  negative - FOOD#QUALITY  \\\n",
       "0                       0                        0   \n",
       "1                       0                        0   \n",
       "2                       0                        0   \n",
       "3                       0                        0   \n",
       "4                       0                        0   \n",
       "\n",
       "   negative - FOOD#STYLE_OPTIONS  negative - LOCATION#GENERAL  ...  \\\n",
       "0                              0                            0  ...   \n",
       "1                              1                            0  ...   \n",
       "2                              0                            0  ...   \n",
       "3                              0                            0  ...   \n",
       "4                              0                            0  ...   \n",
       "\n",
       "   positive - DRINKS#QUALITY  positive - DRINKS#STYLE_OPTIONS  \\\n",
       "0                          0                                0   \n",
       "1                          0                                0   \n",
       "2                          0                                0   \n",
       "3                          0                                0   \n",
       "4                          0                                0   \n",
       "\n",
       "   positive - FOOD#PRICES  positive - FOOD#QUALITY  \\\n",
       "0                       0                        0   \n",
       "1                       0                        0   \n",
       "2                       0                        1   \n",
       "3                       0                        0   \n",
       "4                       0                        0   \n",
       "\n",
       "   positive - FOOD#STYLE_OPTIONS  positive - LOCATION#GENERAL  \\\n",
       "0                              0                            0   \n",
       "1                              0                            0   \n",
       "2                              0                            0   \n",
       "3                              0                            0   \n",
       "4                              0                            0   \n",
       "\n",
       "   positive - RESTAURANT#GENERAL  positive - RESTAURANT#MISCELLANEOUS  \\\n",
       "0                              0                                    0   \n",
       "1                              0                                    0   \n",
       "2                              0                                    0   \n",
       "3                              0                                    0   \n",
       "4                              0                                    0   \n",
       "\n",
       "   positive - RESTAURANT#PRICES  positive - SERVICE#GENERAL  \n",
       "0                             0                           0  \n",
       "1                             0                           0  \n",
       "2                             0                           0  \n",
       "3                             0                           0  \n",
       "4                             0                           0  \n",
       "\n",
       "[5 rows x 34 columns]"
      ]
     },
     "execution_count": 9,
     "metadata": {},
     "output_type": "execute_result"
    }
   ],
   "source": [
    "train_df.drop('Unnamed: 0', axis=1, inplace=True)\n",
    "train_df.head()"
   ]
  },
  {
   "cell_type": "code",
   "execution_count": 11,
   "id": "55410915",
   "metadata": {},
   "outputs": [
    {
     "name": "stdout",
     "output_type": "stream",
     "text": [
      "Sample: \"eski kalite olmasada iyi demek talep olunca ister istemek kalite servis vasat düşüyor et kenfi çift otopark soru fiat normal\"\n",
      "Labels: {'negative - AMBIENCE#GENERAL': 0, 'negative - DRINKS#PRICES': 0, 'negative - DRINKS#QUALITY': 0, 'negative - DRINKS#STYLE_OPTIONS': 0, 'negative - FOOD#PRICES': 0, 'negative - FOOD#QUALITY': 0, 'negative - FOOD#STYLE_OPTIONS': 0, 'negative - LOCATION#GENERAL': 0, 'negative - RESTAURANT#GENERAL': 0, 'negative - RESTAURANT#PRICES': 0, 'negative - SERVICE#GENERAL': 1, 'neutral - AMBIENCE#GENERAL': 0, 'neutral - DRINKS#PRICES': 0, 'neutral - DRINKS#QUALITY': 0, 'neutral - FOOD#PRICES': 0, 'neutral - FOOD#QUALITY': 0, 'neutral - FOOD#STYLE_OPTIONS': 0, 'neutral - LOCATION#GENERAL': 0, 'neutral - RESTAURANT#GENERAL': 1, 'neutral - RESTAURANT#PRICES': 1, 'neutral - SERVICE#GENERAL': 1, 'positive - AMBIENCE#GENERAL': 0, 'positive - DRINKS#QUALITY': 0, 'positive - DRINKS#STYLE_OPTIONS': 0, 'positive - FOOD#PRICES': 0, 'positive - FOOD#QUALITY': 0, 'positive - FOOD#STYLE_OPTIONS': 0, 'positive - LOCATION#GENERAL': 0, 'positive - RESTAURANT#GENERAL': 0, 'positive - RESTAURANT#MISCELLANEOUS': 0, 'positive - RESTAURANT#PRICES': 0, 'positive - SERVICE#GENERAL': 0}\n"
     ]
    }
   ],
   "source": [
    "import pandas as pd\n",
    "from sklearn.model_selection import train_test_split\n",
    "\n",
    "texts = list(train_df[\"lemmatized\"])\n",
    "label_names = train_df.drop([\"SID\", \"lemmatized\"], axis=1).columns\n",
    "labels = train_df[label_names].values\n",
    "\n",
    "train_texts, test_texts, train_labels, test_labels = train_test_split(\n",
    "    texts, labels, test_size=0.2, random_state=42\n",
    ")\n",
    "\n",
    "sample_idx = 24\n",
    "print(f'Sample: \"{train_texts[sample_idx]}\"')\n",
    "print(f\"Labels: {pd.Series(train_labels[sample_idx], label_names).to_dict()}\")"
   ]
  },
  {
   "cell_type": "code",
   "execution_count": 32,
   "id": "657ff899",
   "metadata": {},
   "outputs": [
    {
     "name": "stdout",
     "output_type": "stream",
     "text": [
      "Length of train texts :  871\n",
      "Length of train texts :  218\n",
      "Length of train texts :  871\n",
      "Length of train texts :  218\n"
     ]
    }
   ],
   "source": [
    "print(\"Length of train texts : \", len(train_texts))\n",
    "print(\"Length of train texts : \", len(test_texts))\n",
    "print(\"Length of train texts : \", len(train_labels))\n",
    "print(\"Length of train texts : \", len(test_labels))"
   ]
  },
  {
   "cell_type": "markdown",
   "id": "d89e7fa3",
   "metadata": {},
   "source": [
    "### A minimalistic Exploratory Data Analysis"
   ]
  },
  {
   "cell_type": "code",
   "execution_count": 12,
   "id": "69fc2d49",
   "metadata": {},
   "outputs": [
    {
     "data": {
      "image/png": "[encoded data removed]",
      "text/plain": [
       "<Figure size 432x288 with 1 Axes>"
      ]
     },
     "metadata": {
      "needs_background": "light"
     },
     "output_type": "display_data"
    }
   ],
   "source": [
    "import seaborn as sns\n",
    "\n",
    "text_lengths = [len(t.split()) for t in train_texts]\n",
    "ax = sns.histplot(data=text_lengths, kde=True, stat=\"density\")\n",
    "ax.set_title(\"Texts length distribution (number of words)\");"
   ]
  },
  {
   "cell_type": "markdown",
   "id": "af4560b9",
   "metadata": {},
   "source": [
    "### Fine-tuning BERT"
   ]
  },
  {
   "cell_type": "code",
   "execution_count": 35,
   "id": "0a00303e",
   "metadata": {},
   "outputs": [
    {
     "name": "stdout",
     "output_type": "stream",
     "text": [
      "Transformers package version: 4.15.0\n"
     ]
    }
   ],
   "source": [
    "import transformers\n",
    "print(f\"Transformers package version: {transformers.__version__}\")"
   ]
  },
  {
   "cell_type": "code",
   "execution_count": 40,
   "id": "9b47d91e",
   "metadata": {},
   "outputs": [
    {
     "data": {
      "text/plain": [
       "'[CLS] yemek iyi ama servis kötü [SEP]'"
      ]
     },
     "execution_count": 40,
     "metadata": {},
     "output_type": "execute_result"
    }
   ],
   "source": [
    "import tensorflow as tf\n",
    "from transformers import BertModel, BertTokenizer, BertConfig, BertForSequenceClassification\n",
    "\n",
    "MODEL_NAME = 'dbmdz/bert-base-turkish-128k-cased'\n",
    "MAX_LENGTH = 200  # We truncate anything after the 200-th word to speed up training\n",
    "\n",
    "# The configuration is not needed if you don't have to customize the \n",
    "# network architecture. Here we will need it to replacee the output of the model\n",
    "# with a multi-label prediction layer (i.e. sigmoid activations + binary cross-entropy\n",
    "# instead of softmax + categorical cross-entropy of multi-class classification)\n",
    "config = BertConfig.from_pretrained(MODEL_NAME)\n",
    "\n",
    "tokenizer = BertTokenizer.from_pretrained(MODEL_NAME)\n",
    "\n",
    "\n",
    "train_encodings = tokenizer(train_texts, truncation=True, padding=True, \n",
    "                            max_length=MAX_LENGTH, return_tensors=\"tf\")\n",
    "test_encodings = tokenizer(test_texts, truncation=True, padding=True, \n",
    "                           max_length=MAX_LENGTH, return_tensors=\"tf\")\n",
    "\n",
    "# Create TensorFlow datasets to feed the model for training and evaluation\n",
    "train_dataset = tf.data.Dataset.from_tensor_slices((dict(train_encodings), train_labels))\n",
    "test_dataset = tf.data.Dataset.from_tensor_slices((dict(test_encodings), test_labels))\n",
    "\n",
    "# Tokenizer output example\n",
    "sample_text = \"yemek iyi ama servis kötü\"\n",
    "tokenizer.decode(tokenizer(sample_text)[\"input_ids\"])"
   ]
  },
  {
   "cell_type": "markdown",
   "id": "a8473db6",
   "metadata": {},
   "source": [
    "Now that the tokenizer is available, we have to customize the output of the BERT model for our multi-label problem."
   ]
  },
  {
   "cell_type": "code",
   "execution_count": 73,
   "id": "e4fca5c0",
   "metadata": {},
   "outputs": [],
   "source": [
    "from sklearn.metrics import accuracy_score, recall_score, precision_score, f1_score\n",
    "\n",
    "def compute_metrics(p):\n",
    "    pred, labels = p\n",
    "    pred = np.argmax(pred, axis=1)\n",
    "\n",
    "    accuracy = accuracy_score(y_true=labels, y_pred=pred)\n",
    "    recall = recall_score(y_true=labels, y_pred=pred)\n",
    "    precision = precision_score(y_true=labels, y_pred=pred)\n",
    "    f1 = f1_score(y_true=labels, y_pred=pred)\n",
    "\n",
    "    return {\"accuracy\": accuracy, \n",
    "            \"precision\": precision, \n",
    "            \"recall\": recall, \n",
    "            \"f1\": f1}"
   ]
  },
  {
   "cell_type": "code",
   "execution_count": 85,
   "id": "8214cbfc",
   "metadata": {},
   "outputs": [
    {
     "name": "stderr",
     "output_type": "stream",
     "text": [
      "loading configuration file https://huggingface.co/dbmdz/bert-base-turkish-128k-cased/resolve/main/config.json from cache at C:\\Users\\burak/.cache\\huggingface\\transformers\\38a5a8ddc3e95fba603eb96e9c7eba1cb825fcd90c61f35bcc1a44b08484984a.453a629e781b4c858049daeb69936fc02d2ee7e3314c6c65fa5f432c13470419\n",
      "Model config BertConfig {\n",
      "  \"attention_probs_dropout_prob\": 0.1,\n",
      "  \"classifier_dropout\": null,\n",
      "  \"hidden_act\": \"gelu\",\n",
      "  \"hidden_dropout_prob\": 0.1,\n",
      "  \"hidden_size\": 768,\n",
      "  \"initializer_range\": 0.02,\n",
      "  \"intermediate_size\": 3072,\n",
      "  \"layer_norm_eps\": 1e-12,\n",
      "  \"max_position_embeddings\": 512,\n",
      "  \"model_type\": \"bert\",\n",
      "  \"num_attention_heads\": 12,\n",
      "  \"num_hidden_layers\": 12,\n",
      "  \"pad_token_id\": 0,\n",
      "  \"position_embedding_type\": \"absolute\",\n",
      "  \"transformers_version\": \"4.15.0\",\n",
      "  \"type_vocab_size\": 2,\n",
      "  \"use_cache\": true,\n",
      "  \"vocab_size\": 128000\n",
      "}\n",
      "\n",
      "loading weights file https://huggingface.co/dbmdz/bert-base-turkish-128k-cased/resolve/main/pytorch_model.bin from cache at C:\\Users\\burak/.cache\\huggingface\\transformers\\d5362282eeb9df4e82256c6b656c9d0854592f64a9c875e87477675682008d1e.8847e304cf1d782802ee20b05c27077ce5d882811e29a4b291033a4028336579\n",
      "Some weights of the model checkpoint at dbmdz/bert-base-turkish-128k-cased were not used when initializing BertForSequenceClassification: ['cls.seq_relationship.bias', 'cls.predictions.bias', 'cls.predictions.transform.LayerNorm.weight', 'cls.predictions.transform.dense.weight', 'cls.predictions.transform.dense.bias', 'cls.predictions.decoder.weight', 'cls.predictions.transform.LayerNorm.bias', 'cls.predictions.decoder.bias', 'cls.seq_relationship.weight']\n",
      "- This IS expected if you are initializing BertForSequenceClassification from the checkpoint of a model trained on another task or with another architecture (e.g. initializing a BertForSequenceClassification model from a BertForPreTraining model).\n",
      "- This IS NOT expected if you are initializing BertForSequenceClassification from the checkpoint of a model that you expect to be exactly identical (initializing a BertForSequenceClassification model from a BertForSequenceClassification model).\n",
      "Some weights of BertForSequenceClassification were not initialized from the model checkpoint at dbmdz/bert-base-turkish-128k-cased and are newly initialized: ['classifier.weight', 'classifier.bias']\n",
      "You should probably TRAIN this model on a down-stream task to be able to use it for predictions and inference.\n"
     ]
    }
   ],
   "source": [
    "model = BertForSequenceClassification.from_pretrained(MODEL_NAME)"
   ]
  },
  {
   "cell_type": "code",
   "execution_count": 69,
   "id": "9aa733e2",
   "metadata": {},
   "outputs": [
    {
     "name": "stderr",
     "output_type": "stream",
     "text": [
      "Some weights of the model checkpoint at dbmdz/bert-base-turkish-128k-cased were not used when initializing BertModel: ['cls.seq_relationship.bias', 'cls.predictions.bias', 'cls.predictions.transform.LayerNorm.weight', 'cls.predictions.transform.dense.weight', 'cls.predictions.transform.dense.bias', 'cls.predictions.decoder.weight', 'cls.predictions.transform.LayerNorm.bias', 'cls.predictions.decoder.bias', 'cls.seq_relationship.weight']\n",
      "- This IS expected if you are initializing BertModel from the checkpoint of a model trained on another task or with another architecture (e.g. initializing a BertForSequenceClassification model from a BertForPreTraining model).\n",
      "- This IS NOT expected if you are initializing BertModel from the checkpoint of a model that you expect to be exactly identical (initializing a BertForSequenceClassification model from a BertForSequenceClassification model).\n"
     ]
    },
    {
     "ename": "AttributeError",
     "evalue": "'BertModel' object has no attribute 'inputs_embeds'",
     "output_type": "error",
     "traceback": [
      "\u001b[1;31m---------------------------------------------------------------------------\u001b[0m",
      "\u001b[1;31mAttributeError\u001b[0m                            Traceback (most recent call last)",
      "Input \u001b[1;32mIn [69]\u001b[0m, in \u001b[0;36m<module>\u001b[1;34m\u001b[0m\n\u001b[0;32m      1\u001b[0m \u001b[38;5;66;03m# Load the basic BERT model \u001b[39;00m\n\u001b[0;32m      2\u001b[0m bert_model \u001b[38;5;241m=\u001b[39m BertModel\u001b[38;5;241m.\u001b[39mfrom_pretrained(MODEL_NAME)\n\u001b[1;32m----> 4\u001b[0m inputs \u001b[38;5;241m=\u001b[39m \u001b[43mbert_model\u001b[49m\u001b[38;5;241;43m.\u001b[39;49m\u001b[43minputs_embeds\u001b[49m [:\u001b[38;5;241m2\u001b[39m]\n\u001b[0;32m      5\u001b[0m dense \u001b[38;5;241m=\u001b[39m bert_model\u001b[38;5;241m.\u001b[39mget_layer(\u001b[38;5;124m'\u001b[39m\u001b[38;5;124mNSP-Dense\u001b[39m\u001b[38;5;124m'\u001b[39m)\u001b[38;5;241m.\u001b[39moutput\n\u001b[0;32m      6\u001b[0m outputs \u001b[38;5;241m=\u001b[39m keras\u001b[38;5;241m.\u001b[39mlayers\u001b[38;5;241m.\u001b[39mDense(units\u001b[38;5;241m=\u001b[39m\u001b[38;5;241m2\u001b[39m, activation\u001b[38;5;241m=\u001b[39m\u001b[38;5;124m'\u001b[39m\u001b[38;5;124msoftmax\u001b[39m\u001b[38;5;124m'\u001b[39m)(dense)\n",
      "File \u001b[1;32m~\\AppData\\Roaming\\Python\\Python39\\site-packages\\torch\\nn\\modules\\module.py:1177\u001b[0m, in \u001b[0;36mModule.__getattr__\u001b[1;34m(self, name)\u001b[0m\n\u001b[0;32m   1175\u001b[0m     \u001b[38;5;28;01mif\u001b[39;00m name \u001b[38;5;129;01min\u001b[39;00m modules:\n\u001b[0;32m   1176\u001b[0m         \u001b[38;5;28;01mreturn\u001b[39;00m modules[name]\n\u001b[1;32m-> 1177\u001b[0m \u001b[38;5;28;01mraise\u001b[39;00m \u001b[38;5;167;01mAttributeError\u001b[39;00m(\u001b[38;5;124m\"\u001b[39m\u001b[38;5;124m'\u001b[39m\u001b[38;5;132;01m{}\u001b[39;00m\u001b[38;5;124m'\u001b[39m\u001b[38;5;124m object has no attribute \u001b[39m\u001b[38;5;124m'\u001b[39m\u001b[38;5;132;01m{}\u001b[39;00m\u001b[38;5;124m'\u001b[39m\u001b[38;5;124m\"\u001b[39m\u001b[38;5;241m.\u001b[39mformat(\n\u001b[0;32m   1178\u001b[0m     \u001b[38;5;28mtype\u001b[39m(\u001b[38;5;28mself\u001b[39m)\u001b[38;5;241m.\u001b[39m\u001b[38;5;18m__name__\u001b[39m, name))\n",
      "\u001b[1;31mAttributeError\u001b[0m: 'BertModel' object has no attribute 'inputs_embeds'"
     ]
    }
   ],
   "source": [
    "# Load the basic BERT model \n",
    "bert_model = BertForSequenceClassification.from_pretrained(MODEL_NAME)\n",
    "\n",
    "inputs = bert_model.inputs[:2]\n",
    "dense = bert_model.get_layer('NSP-Dense').output\n",
    "outputs = keras.layers.Dense(units=2, activation='softmax')(dense)\n",
    "model = keras.models.Model(inputs, outputs)\n",
    "\n",
    "model.compile(\n",
    "              Adam(5e-5),\n",
    "              loss= BinaryCrossentropy(),\n",
    "              metrics = [\n",
    "                        multi_label_accuracy,\n",
    "                        \"binary_accuracy\", \n",
    "                        AUC(name=\"average_precision\", curve=\"PR\", multi_label=True)\n",
    "                        ]\n",
    "            )\n",
    "history = model.fit(\n",
    "    train_dataset.shuffle(1000).batch(16),\n",
    "    train_y,\n",
    "    epochs=2, \n",
    "    batch_size=16, \n",
    "    validation_data = test_dataset.batch(16),\n",
    "    shuffle=True,\n",
    ")"
   ]
  },
  {
   "cell_type": "code",
   "execution_count": 87,
   "id": "27275ce6",
   "metadata": {},
   "outputs": [],
   "source": [
    "# some problems happened, new one is below"
   ]
  },
  {
   "cell_type": "code",
   "execution_count": 88,
   "id": "a83254be",
   "metadata": {},
   "outputs": [],
   "source": [
    "import os\n",
    "import re\n",
    "import string\n",
    "import numpy as np\n",
    "import pandas as pd\n",
    "from sklearn import metrics\n",
    "import transformers\n",
    "import torch\n",
    "from torch.utils.data import Dataset, DataLoader, RandomSampler, SequentialSampler\n",
    "from transformers import BertTokenizer, AutoTokenizer, BertModel, BertConfig, AutoModel, AdamW\n",
    "import warnings\n",
    "warnings.filterwarnings('ignore')\n",
    "\n",
    "pd.set_option(\"display.max_columns\", None)"
   ]
  },
  {
   "cell_type": "code",
   "execution_count": 89,
   "id": "0ee0c059",
   "metadata": {},
   "outputs": [],
   "source": [
    "device = 'cuda' if torch.cuda.is_available() else 'cpu'"
   ]
  },
  {
   "cell_type": "code",
   "execution_count": 90,
   "id": "1f41de38",
   "metadata": {},
   "outputs": [
    {
     "name": "stderr",
     "output_type": "stream",
     "text": [
      "loading file https://huggingface.co/dbmdz/bert-base-turkish-128k-cased/resolve/main/vocab.txt from cache at C:\\Users\\burak/.cache\\huggingface\\transformers\\f52dc533c970d010b6685abf9be0d77367ef97e77595e99cb2673e97530430b2.e646aa41d1f0edf09d11ce844dabd42390c858472dee78ff02e170878c5bf42e\n",
      "loading file https://huggingface.co/dbmdz/bert-base-turkish-128k-cased/resolve/main/added_tokens.json from cache at None\n",
      "loading file https://huggingface.co/dbmdz/bert-base-turkish-128k-cased/resolve/main/special_tokens_map.json from cache at None\n",
      "loading file https://huggingface.co/dbmdz/bert-base-turkish-128k-cased/resolve/main/tokenizer_config.json from cache at C:\\Users\\burak/.cache\\huggingface\\transformers\\a1fa7c4d5ea5cb7b55379cd2cc9129b3f1b5af36cd1c13fa333c46f4deedfff0.c70618325b9fc2d2d041e439766d360b48a086a8841cc2896322f6b8aefc0225\n",
      "loading file https://huggingface.co/dbmdz/bert-base-turkish-128k-cased/resolve/main/tokenizer.json from cache at None\n",
      "loading configuration file https://huggingface.co/dbmdz/bert-base-turkish-128k-cased/resolve/main/config.json from cache at C:\\Users\\burak/.cache\\huggingface\\transformers\\38a5a8ddc3e95fba603eb96e9c7eba1cb825fcd90c61f35bcc1a44b08484984a.453a629e781b4c858049daeb69936fc02d2ee7e3314c6c65fa5f432c13470419\n",
      "Model config BertConfig {\n",
      "  \"_name_or_path\": \"dbmdz/bert-base-turkish-128k-cased\",\n",
      "  \"attention_probs_dropout_prob\": 0.1,\n",
      "  \"classifier_dropout\": null,\n",
      "  \"hidden_act\": \"gelu\",\n",
      "  \"hidden_dropout_prob\": 0.1,\n",
      "  \"hidden_size\": 768,\n",
      "  \"initializer_range\": 0.02,\n",
      "  \"intermediate_size\": 3072,\n",
      "  \"layer_norm_eps\": 1e-12,\n",
      "  \"max_position_embeddings\": 512,\n",
      "  \"model_type\": \"bert\",\n",
      "  \"num_attention_heads\": 12,\n",
      "  \"num_hidden_layers\": 12,\n",
      "  \"pad_token_id\": 0,\n",
      "  \"position_embedding_type\": \"absolute\",\n",
      "  \"transformers_version\": \"4.15.0\",\n",
      "  \"type_vocab_size\": 2,\n",
      "  \"use_cache\": true,\n",
      "  \"vocab_size\": 128000\n",
      "}\n",
      "\n"
     ]
    }
   ],
   "source": [
    "# Sections of config\n",
    "\n",
    "# Defining some key variables that will be used later on in the training\n",
    "MAX_LEN = 200\n",
    "TRAIN_BATCH_SIZE = 64\n",
    "VALID_BATCH_SIZE = 64\n",
    "EPOCHS = 10\n",
    "LEARNING_RATE = 2e-5\n",
    "tokenizer = BertTokenizer.from_pretrained(MODEL_NAME)"
   ]
  },
  {
   "cell_type": "code",
   "execution_count": 91,
   "id": "0b76ea14",
   "metadata": {},
   "outputs": [
    {
     "data": {
      "text/plain": [
       "['negative - AMBIENCE#GENERAL',\n",
       " 'negative - DRINKS#PRICES',\n",
       " 'negative - DRINKS#QUALITY',\n",
       " 'negative - DRINKS#STYLE_OPTIONS',\n",
       " 'negative - FOOD#PRICES',\n",
       " 'negative - FOOD#QUALITY',\n",
       " 'negative - FOOD#STYLE_OPTIONS',\n",
       " 'negative - LOCATION#GENERAL',\n",
       " 'negative - RESTAURANT#GENERAL',\n",
       " 'negative - RESTAURANT#PRICES',\n",
       " 'negative - SERVICE#GENERAL',\n",
       " 'neutral - AMBIENCE#GENERAL',\n",
       " 'neutral - DRINKS#PRICES',\n",
       " 'neutral - DRINKS#QUALITY',\n",
       " 'neutral - FOOD#PRICES',\n",
       " 'neutral - FOOD#QUALITY',\n",
       " 'neutral - FOOD#STYLE_OPTIONS',\n",
       " 'neutral - LOCATION#GENERAL',\n",
       " 'neutral - RESTAURANT#GENERAL',\n",
       " 'neutral - RESTAURANT#PRICES',\n",
       " 'neutral - SERVICE#GENERAL',\n",
       " 'positive - AMBIENCE#GENERAL',\n",
       " 'positive - DRINKS#QUALITY',\n",
       " 'positive - DRINKS#STYLE_OPTIONS',\n",
       " 'positive - FOOD#PRICES',\n",
       " 'positive - FOOD#QUALITY',\n",
       " 'positive - FOOD#STYLE_OPTIONS',\n",
       " 'positive - LOCATION#GENERAL',\n",
       " 'positive - RESTAURANT#GENERAL',\n",
       " 'positive - RESTAURANT#MISCELLANEOUS',\n",
       " 'positive - RESTAURANT#PRICES',\n",
       " 'positive - SERVICE#GENERAL']"
      ]
     },
     "execution_count": 91,
     "metadata": {},
     "output_type": "execute_result"
    }
   ],
   "source": [
    "target_cols = [col for col in train_df.columns if col not in ['SID', 'lemmatized']]\n",
    "target_cols"
   ]
  },
  {
   "cell_type": "code",
   "execution_count": 94,
   "id": "0fe75397",
   "metadata": {},
   "outputs": [],
   "source": [
    "from torch.utils.data import Dataset, DataLoader, RandomSampler, SequentialSampler\n",
    "\n",
    "class BERTDataset(Dataset):\n",
    "    def __init__(self, df, tokenizer, max_len):\n",
    "        self.df = df\n",
    "        self.max_len = max_len\n",
    "        self.text = df.lemmatized\n",
    "        self.tokenizer = tokenizer\n",
    "        self.targets = df[target_cols].values\n",
    "        \n",
    "    def __len__(self):\n",
    "        return len(self.df)\n",
    "    \n",
    "    def __getitem__(self, index):\n",
    "        text = self.text[index]\n",
    "        inputs = self.tokenizer.encode_plus(\n",
    "            text,\n",
    "            truncation=True,\n",
    "            add_special_tokens=True,\n",
    "            max_length=self.max_len,\n",
    "            padding='max_length',\n",
    "            return_token_type_ids=True\n",
    "        )\n",
    "        ids = inputs['input_ids']\n",
    "        mask = inputs['attention_mask']\n",
    "        token_type_ids = inputs[\"token_type_ids\"]\n",
    "        \n",
    "        return {\n",
    "            'ids': torch.tensor(ids, dtype=torch.long),\n",
    "            'mask': torch.tensor(mask, dtype=torch.long),\n",
    "            'token_type_ids': torch.tensor(token_type_ids, dtype=torch.long),\n",
    "            'targets': torch.tensor(self.targets[index], dtype=torch.float)\n",
    "        }"
   ]
  },
  {
   "cell_type": "code",
   "execution_count": 93,
   "id": "484fbdaa",
   "metadata": {},
   "outputs": [],
   "source": [
    "train_texts, test_texts, train_labels, test_labels = train_test_split(\n",
    "    texts, labels, test_size=0.2, random_state=24\n",
    ")"
   ]
  },
  {
   "cell_type": "code",
   "execution_count": 99,
   "id": "97fc7328",
   "metadata": {},
   "outputs": [],
   "source": [
    "train_dataset = BERTDataset(train_df, tokenizer, MAX_LEN)"
   ]
  },
  {
   "cell_type": "code",
   "execution_count": 101,
   "id": "4ecfb4f4",
   "metadata": {},
   "outputs": [],
   "source": [
    "train_loader = DataLoader(train_dataset , batch_size=TRAIN_BATCH_SIZE, \n",
    "                          num_workers=4, shuffle=True, pin_memory=True)"
   ]
  },
  {
   "cell_type": "code",
   "execution_count": 103,
   "id": "b1715a0d",
   "metadata": {},
   "outputs": [
    {
     "name": "stderr",
     "output_type": "stream",
     "text": [
      "loading configuration file https://huggingface.co/dbmdz/bert-base-turkish-128k-cased/resolve/main/config.json from cache at C:\\Users\\burak/.cache\\huggingface\\transformers\\38a5a8ddc3e95fba603eb96e9c7eba1cb825fcd90c61f35bcc1a44b08484984a.453a629e781b4c858049daeb69936fc02d2ee7e3314c6c65fa5f432c13470419\n",
      "Model config BertConfig {\n",
      "  \"attention_probs_dropout_prob\": 0.1,\n",
      "  \"classifier_dropout\": null,\n",
      "  \"hidden_act\": \"gelu\",\n",
      "  \"hidden_dropout_prob\": 0.1,\n",
      "  \"hidden_size\": 768,\n",
      "  \"initializer_range\": 0.02,\n",
      "  \"intermediate_size\": 3072,\n",
      "  \"layer_norm_eps\": 1e-12,\n",
      "  \"max_position_embeddings\": 512,\n",
      "  \"model_type\": \"bert\",\n",
      "  \"num_attention_heads\": 12,\n",
      "  \"num_hidden_layers\": 12,\n",
      "  \"pad_token_id\": 0,\n",
      "  \"position_embedding_type\": \"absolute\",\n",
      "  \"transformers_version\": \"4.15.0\",\n",
      "  \"type_vocab_size\": 2,\n",
      "  \"use_cache\": true,\n",
      "  \"vocab_size\": 128000\n",
      "}\n",
      "\n",
      "loading weights file https://huggingface.co/dbmdz/bert-base-turkish-128k-cased/resolve/main/pytorch_model.bin from cache at C:\\Users\\burak/.cache\\huggingface\\transformers\\d5362282eeb9df4e82256c6b656c9d0854592f64a9c875e87477675682008d1e.8847e304cf1d782802ee20b05c27077ce5d882811e29a4b291033a4028336579\n",
      "Some weights of the model checkpoint at dbmdz/bert-base-turkish-128k-cased were not used when initializing BertForSequenceClassification: ['cls.seq_relationship.bias', 'cls.predictions.bias', 'cls.predictions.transform.LayerNorm.weight', 'cls.predictions.transform.dense.weight', 'cls.predictions.transform.dense.bias', 'cls.predictions.decoder.weight', 'cls.predictions.transform.LayerNorm.bias', 'cls.predictions.decoder.bias', 'cls.seq_relationship.weight']\n",
      "- This IS expected if you are initializing BertForSequenceClassification from the checkpoint of a model trained on another task or with another architecture (e.g. initializing a BertForSequenceClassification model from a BertForPreTraining model).\n",
      "- This IS NOT expected if you are initializing BertForSequenceClassification from the checkpoint of a model that you expect to be exactly identical (initializing a BertForSequenceClassification model from a BertForSequenceClassification model).\n",
      "Some weights of BertForSequenceClassification were not initialized from the model checkpoint at dbmdz/bert-base-turkish-128k-cased and are newly initialized: ['classifier.weight', 'classifier.bias']\n",
      "You should probably TRAIN this model on a down-stream task to be able to use it for predictions and inference.\n"
     ]
    }
   ],
   "source": [
    "# Creating the customized model, by adding a drop out and a dense layer on top of distil bert to get the final output for the model. \n",
    "\n",
    "class BERTClass(torch.nn.Module):\n",
    "    def __init__(self):\n",
    "        super(BERTClass, self).__init__()\n",
    "        self.bert = BertForSequenceClassification.from_pretrained(MODEL_NAME)\n",
    "#         self.l2 = torch.nn.Dropout(0.3)\n",
    "        self.fc = torch.nn.Linear(768,5)\n",
    "    \n",
    "    def forward(self, ids, mask, token_type_ids):\n",
    "        _, features = self.bert(ids, attention_mask = mask, token_type_ids = token_type_ids, return_dict=False)\n",
    "#         output_2 = self.l2(output_1)\n",
    "        output = self.fc(features)\n",
    "        return output\n",
    "\n",
    "model = BERTClass()"
   ]
  },
  {
   "cell_type": "code",
   "execution_count": 104,
   "id": "204c6642",
   "metadata": {},
   "outputs": [],
   "source": [
    "def loss_fn(outputs, targets):\n",
    "    return torch.nn.BCEWithLogitsLoss()(outputs, targets)"
   ]
  },
  {
   "cell_type": "code",
   "execution_count": 105,
   "id": "196a0690",
   "metadata": {},
   "outputs": [],
   "source": [
    "optimizer = AdamW(params =  model.parameters(), lr=LEARNING_RATE, weight_decay=1e-6)"
   ]
  },
  {
   "cell_type": "code",
   "execution_count": 106,
   "id": "9ce8b77a",
   "metadata": {},
   "outputs": [],
   "source": [
    "def train(epoch):\n",
    "    model.train()\n",
    "    for _,data in enumerate(train_loader, 0):\n",
    "        ids = data['ids'].to(device, dtype = torch.long)\n",
    "        mask = data['mask'].to(device, dtype = torch.long)\n",
    "        token_type_ids = data['token_type_ids']\n",
    "        targets = data['targets'].to\n",
    "\n",
    "        outputs = model(ids, mask, token_type_ids)\n",
    "\n",
    "        loss = loss_fn(outputs, targets)\n",
    "        if _%500 == 0:\n",
    "            print(f'Epoch: {epoch}, Loss:  {loss.item()}')\n",
    "        \n",
    "        loss.backward()\n",
    "        optimizer.step()\n",
    "        optimizer.zero_grad()"
   ]
  },
  {
   "cell_type": "code",
   "execution_count": null,
   "id": "8aa6a476",
   "metadata": {},
   "outputs": [],
   "source": [
    "for epoch in range(EPOCHS):\n",
    "    train(epoch)"
   ]
  },
  {
   "cell_type": "code",
   "execution_count": null,
   "id": "c57154a1",
   "metadata": {},
   "outputs": [],
   "source": []
  },
  {
   "cell_type": "code",
   "execution_count": null,
   "id": "0218b7fa",
   "metadata": {},
   "outputs": [],
   "source": []
  }
 ],
 "metadata": {
  "kernelspec": {
   "display_name": "Python 3 (ipykernel)",
   "language": "python",
   "name": "python3"
  },
  "language_info": {
   "codemirror_mode": {
    "name": "ipython",
    "version": 3
   },
   "file_extension": ".py",
   "mimetype": "text/x-python",
   "name": "python",
   "nbconvert_exporter": "python",
   "pygments_lexer": "ipython3",
   "version": "3.9.5"
  }
 },
 "nbformat": 4,
 "nbformat_minor": 5
}
